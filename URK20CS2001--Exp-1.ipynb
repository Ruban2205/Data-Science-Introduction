{
 "cells": [
  {
   "cell_type": "code",
   "execution_count": 19,
   "id": "193351fd",
   "metadata": {},
   "outputs": [
    {
     "name": "stdout",
     "output_type": "stream",
     "text": [
      "Enter the number of books you want to store: 3\n",
      "\n",
      "Enter the book id: 1\n",
      "Enter the book name: ruban\n",
      "Enter the book id: 2\n",
      "Enter the book name: gino\n",
      "Enter the book id: 3\n",
      "Enter the book name: singh\n",
      "\n",
      "Stored Books\n",
      "\n",
      "{'1': 'ruban', '2': 'gino', '3': 'singh'}\n",
      "Enter the book ID you want to search: 2\n",
      "Book Found! Book Name:  gino\n"
     ]
    }
   ],
   "source": [
    "\"\"\"1) Create an empty dictionary and fill with some book_id and book_name as pair by user input. \n",
    "Then take one book_id as input from the user and traverse through dictionary to find the corresponding \n",
    "book_name and display the same.\"\"\"\n",
    "\n",
    "books = {}\n",
    "\n",
    "n = int(input(\"Enter the number of books you want to store: \"))\n",
    "print()\n",
    "\n",
    "for i in range(n):\n",
    "    book_id = input(\"Enter the book id: \")\n",
    "    book_name = input(\"Enter the book name: \")\n",
    "    \n",
    "    books[book_id.title()] = book_name\n",
    "\n",
    "print(\"\\nStored Books\\n\")\n",
    "print(books)\n",
    "\n",
    "book_to_search = input(\"Enter the book ID you want to search: \")\n",
    "\n",
    "if book_to_search in books:\n",
    "    print(\"Book Found! Book Name: \", books[book_to_search])\n",
    "\n",
    "else:\n",
    "    print(\"Book NOT Found!!!\")"
   ]
  },
  {
   "cell_type": "code",
   "execution_count": 28,
   "id": "1a9fbd51",
   "metadata": {},
   "outputs": [
    {
     "name": "stdout",
     "output_type": "stream",
     "text": [
      "Enter the number of values: 3\n",
      "ab\n",
      "abca\n",
      "a\n",
      "Number of strings with same character:  1\n"
     ]
    }
   ],
   "source": [
    "\"\"\"2) Create an empty list and fill with list of strings by user input.\n",
    "Find the number of strings where the string length is 2 or more and the first and \n",
    "last character are same. \n",
    "\n",
    "Sample List: ['abc', 'xyz', 'aba', '1221']\n",
    "\n",
    "Expected Result: 2\"\"\"\n",
    "\n",
    "n = int(input(\"Enter the number of values: \"))\n",
    "\n",
    "list = []\n",
    "\n",
    "for i in range(n): \n",
    "    list.append(input())\n",
    "\n",
    "count = 0\n",
    "for i in list: \n",
    "    if len(i)>2 and i[0]==i[-4]: \n",
    "        count += 1\n",
    "\n",
    "print(\"Number of strings with same character: \", count)"
   ]
  },
  {
   "cell_type": "code",
   "execution_count": 31,
   "id": "29fabbf9",
   "metadata": {},
   "outputs": [
    {
     "name": "stdout",
     "output_type": "stream",
     "text": [
      "Enter the number of values: 5\n",
      "6\n",
      "4\n",
      "7\n",
      "5\n",
      "2\n",
      "Maximum value is:  7\n"
     ]
    }
   ],
   "source": [
    "\"\"\"3) Create an empty set and fill with some values by user input. find maximum value in a set.\"\"\"\n",
    "\n",
    "set_to_store = set() \n",
    "\n",
    "num = int(input(\"Enter the number of values: \"))\n",
    "\n",
    "for i in range(num):\n",
    "    set_to_store.add(int(input()))\n",
    "print(\"Maximum value is: \", max(set_to_store))"
   ]
  },
  {
   "cell_type": "code",
   "execution_count": 32,
   "id": "73211db6",
   "metadata": {},
   "outputs": [
    {
     "name": "stdout",
     "output_type": "stream",
     "text": [
      "Enter some values seperated by space: 1 2 3 4 5\n",
      "Sum of tuple elements (1, 2, 3, 4, 5) = 15\n"
     ]
    }
   ],
   "source": [
    "\"\"\"4) Create an empty tuple and fill with some values by user input. Find the sum of tuple elements.\"\"\"\n",
    "\n",
    "user_input = tuple(map(int, input( 'Enter some values seperated by space: ').split()))\n",
    "sum = 0\n",
    "\n",
    "for element in user_input:\n",
    "    sum = sum + element\n",
    "\n",
    "print(\"Sum of tuple elements\", user_input, \"=\", sum)"
   ]
  },
  {
   "cell_type": "code",
   "execution_count": 34,
   "id": "8f620f7f",
   "metadata": {},
   "outputs": [
    {
     "name": "stdout",
     "output_type": "stream",
     "text": [
      "The Addition Values of the Given Matrix is: \n",
      "[[ 8 11  8]\n",
      " [ 5  9  8]\n",
      " [ 9  8 12]]\n"
     ]
    }
   ],
   "source": [
    "\"\"\"5) Create a 2D array and perform matrix addition using numpy.\"\"\"\n",
    "\n",
    "import numpy as np\n",
    "\n",
    "first_value = np.array([[1,2,3],[2,3,4],[3,4,5]])\n",
    "second_value = np.array([[7,9,5],[3,6,4],[6,4,7]])\n",
    "\n",
    "addition = first_value + second_value\n",
    "\n",
    "print(\"The Addition Values of the Given Matrix is: \")\n",
    "print(addition)\n"
   ]
  },
  {
   "cell_type": "code",
   "execution_count": 36,
   "id": "2fba1439",
   "metadata": {},
   "outputs": [
    {
     "name": "stdout",
     "output_type": "stream",
     "text": [
      "     Unnamed: 0  Age  Sex     ChestPain  RestBP  Chol  Fbs  RestECG  MaxHR  \\\n",
      "0             1   63    1       typical     145   233    1        2    150   \n",
      "1             2   67    1  asymptomatic     160   286    0        2    108   \n",
      "2             3   67    1  asymptomatic     120   229    0        2    129   \n",
      "3             4   37    1    nonanginal     130   250    0        0    187   \n",
      "4             5   41    0    nontypical     130   204    0        2    172   \n",
      "..          ...  ...  ...           ...     ...   ...  ...      ...    ...   \n",
      "298         299   45    1       typical     110   264    0        0    132   \n",
      "299         300   68    1  asymptomatic     144   193    1        0    141   \n",
      "300         301   57    1  asymptomatic     130   131    0        0    115   \n",
      "301         302   57    0    nontypical     130   236    0        2    174   \n",
      "302         303   38    1    nonanginal     138   175    0        0    173   \n",
      "\n",
      "     ExAng  Oldpeak  Slope  Ca        Thal  AHD  \n",
      "0        0      2.3      3   0       fixed   No  \n",
      "1        1      1.5      2   3      normal  Yes  \n",
      "2        1      2.6      2   2  reversable  Yes  \n",
      "3        0      3.5      3   0      normal   No  \n",
      "4        0      1.4      1   0      normal   No  \n",
      "..     ...      ...    ...  ..         ...  ...  \n",
      "298      0      1.2      2   0  reversable  Yes  \n",
      "299      0      3.4      2   2  reversable  Yes  \n",
      "300      1      1.2      2   1  reversable  Yes  \n",
      "301      0      0.0      2   1      normal  Yes  \n",
      "302      0      0.0      1   0      normal   No  \n",
      "\n",
      "[303 rows x 15 columns]\n"
     ]
    }
   ],
   "source": [
    "\"\"\"6) Read an .csv file and display the basic details\"\"\"\n",
    "\n",
    "import pandas as pd\n",
    "\n",
    "data_frame = pd.read_csv('heart.csv')\n",
    "\n",
    "print(data_frame)"
   ]
  },
  {
   "cell_type": "code",
   "execution_count": null,
   "id": "c7be00dd",
   "metadata": {},
   "outputs": [],
   "source": []
  }
 ],
 "metadata": {
  "kernelspec": {
   "display_name": "Python 3 (ipykernel)",
   "language": "python",
   "name": "python3"
  },
  "language_info": {
   "codemirror_mode": {
    "name": "ipython",
    "version": 3
   },
   "file_extension": ".py",
   "mimetype": "text/x-python",
   "name": "python",
   "nbconvert_exporter": "python",
   "pygments_lexer": "ipython3",
   "version": "3.9.15"
  }
 },
 "nbformat": 4,
 "nbformat_minor": 5
}
