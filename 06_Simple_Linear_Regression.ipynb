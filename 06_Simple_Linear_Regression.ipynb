{
 "cells": [
  {
   "cell_type": "markdown",
   "id": "ccc035ff",
   "metadata": {},
   "source": [
    "# <center>Simple Linear Regression</center>"
   ]
  },
  {
   "cell_type": "markdown",
   "id": "2a87f9bf",
   "metadata": {},
   "source": [
    "### Description"
   ]
  },
  {
   "cell_type": "markdown",
   "id": "ddd9384e",
   "metadata": {},
   "source": [
    "Simple Linear Regression is a foundational concept in data science and statistical modeling. It is a statistical method used to model the relationship between two variables: a dependent variable (often denoted as \"y\") and an independent variable (often denoted as \"x\"). The goal of simple linear regression is to find the best-fitting straight line that represents the linear relationship between the variables. This line is characterized by an intercept (\"b0\") and a slope (\"b1\").\n",
    "\n",
    "The equation for simple linear regression is given by: \n",
    "**y = b0 + b1x + ε**\n",
    "\n",
    "Where:\n",
    "\n",
    "- y represents the dependent variable \n",
    "- x represents the independent variable\n",
    "- b0 is the intercept \n",
    "- b1 is the regression coefficient (slope) \n",
    "- ε is the error term \n",
    "\n",
    "Simple Linear Regression is widely used for various purposes, such as predicting outcomes, understanding the strength and direction of relationships, and making inferences about the population based on sample data. It forms the basis for more complex regression techniques and serves as a fundamental building block in predictive modeling."
   ]
  },
  {
   "cell_type": "markdown",
   "id": "d6d51b28",
   "metadata": {},
   "source": [
    "### Questions"
   ]
  },
  {
   "cell_type": "markdown",
   "id": "433863db",
   "metadata": {},
   "source": [
    "#### 1) Develop the linear regression model for the given data. (Don't use scikit-learn library)\n",
    "\n",
    "In this question, a linear regression model is developed without using the scikit-learn library. The model aims to capture the relationship between the dependent and independent variables."
   ]
  },
  {
   "cell_type": "code",
   "execution_count": 2,
   "id": "69da0497",
   "metadata": {},
   "outputs": [
    {
     "name": "stdout",
     "output_type": "stream",
     "text": [
      "Regression:  0.3852249832102082\n",
      "Intercept:  65.1415715245131\n"
     ]
    }
   ],
   "source": [
    "import numpy as np \n",
    "import matplotlib.pyplot as plt \n",
    "\n",
    "x=[43,21,25,42,57,59]\n",
    "y=[99,65,79,75,87,81]\n",
    "\n",
    "x = np.array(x)\n",
    "y = np.array(y)\n",
    "\n",
    "meanx = np.mean(x)\n",
    "meany = np.mean(y)\n",
    "\n",
    "xx = x-meanx\n",
    "yy = y-meany\n",
    "xy = xx * yy \n",
    "\n",
    "xx2 = xx*xx \n",
    "\n",
    "sumxy = sum(xy)\n",
    "sumxx = sum(xx2)\n",
    "\n",
    "regression = sumxy / sumxx\n",
    "intercept = meany - (regression * meanx)\n",
    "\n",
    "print(\"Regression: \", regression)\n",
    "print(\"Intercept: \", intercept)\n",
    "\n",
    "# b1 = regression , b0 = intercept\n",
    "y_prediction = intercept + regression * x "
   ]
  },
  {
   "cell_type": "markdown",
   "id": "8357db13",
   "metadata": {},
   "source": [
    "#### a) Calculate the intercept and regression coefficients in y=b0+xb1\n",
    "\n",
    "Here, the task is to calculate the intercept (\"b0\") and regression coefficient (\"b1\") for the simple linear regression model represented by the equation y = b0 + b1x. These coefficients define the slope and position of the regression line."
   ]
  },
  {
   "cell_type": "code",
   "execution_count": 3,
   "id": "1fdf7fbb",
   "metadata": {
    "scrolled": true
   },
   "outputs": [
    {
     "data": {
      "text/plain": [
       "<function matplotlib.pyplot.show(*args, **kw)>"
      ]
     },
     "execution_count": 3,
     "metadata": {},
     "output_type": "execute_result"
    },
    {
     "data": {
      "image/png": "[encoded data removed]",
      "text/plain": [
       "<Figure size 432x288 with 1 Axes>"
      ]
     },
     "metadata": {
      "needs_background": "light"
     },
     "output_type": "display_data"
    }
   ],
   "source": [
    "plt.scatter(x, y, color=\"r\", marker=\"o\", s=30)\n",
    "plt.plot(x, y_prediction, color=\"m\")\n",
    "\n",
    "plt.xlabel(\"Income\")\n",
    "plt.ylabel(\"Happiness\")\n",
    "plt.show"
   ]
  },
  {
   "cell_type": "markdown",
   "id": "1d436913",
   "metadata": {},
   "source": [
    "#### b) Analyze the various performance metrics (Mean squared error, Mean Absolute Error, Root Mean Squared Error, and R-Squared)\n",
    "\n",
    "This question involves analyzing multiple performance metrics to assess the quality of the simple linear regression model. Metrics such as Mean Squared Error, Mean Absolute Error, Root Mean Squared Error, and R-Squared provide insights into the accuracy and fit of the model."
   ]
  },
  {
   "cell_type": "code",
   "execution_count": 6,
   "id": "ca20bb2a",
   "metadata": {},
   "outputs": [
    {
     "name": "stdout",
     "output_type": "stream",
     "text": [
      "Error Computation:  [17.2937542  -8.23129617  4.2278039  -6.32102082 -0.09939557 -6.86984553]\n",
      "\n",
      "Mean Absolute Error:  7.173852697559885\n",
      "Mean Squared Error:  78.64374300425344\n",
      "Root mean squared error:  8.86813075029081\n",
      "R2-Score:  0.2806974725220722\n"
     ]
    }
   ],
   "source": [
    "err = y-y_prediction\n",
    "print(\"Error Computation: \", err)\n",
    "\n",
    "print()\n",
    "\n",
    "from sklearn.metrics import mean_absolute_error, mean_squared_error, r2_score\n",
    "import math \n",
    "\n",
    "print(\"Mean Absolute Error: \", mean_absolute_error(y, y_prediction))\n",
    "print(\"Mean Squared Error: \", mean_squared_error(y, y_prediction))\n",
    "print(\"Root mean squared error: \", math.sqrt(mean_squared_error(y, y_prediction)))\n",
    "print(\"R2-Score: \", r2_score(y, y_prediction))"
   ]
  },
  {
   "cell_type": "markdown",
   "id": "bd2b0282",
   "metadata": {},
   "source": [
    "#### 2) Develop the linear regression model for the income dataset using the scikit-learn\n",
    "\n",
    "In this question, a linear regression model is developed for an income dataset using the scikit-learn library. Scikit-learn is a popular machine learning library in Python."
   ]
  },
  {
   "cell_type": "code",
   "execution_count": 7,
   "id": "5374a010",
   "metadata": {},
   "outputs": [
    {
     "data": {
      "text/html": [
       "<div>\n",
       "<style scoped>\n",
       "    .dataframe tbody tr th:only-of-type {\n",
       "        vertical-align: middle;\n",
       "    }\n",
       "\n",
       "    .dataframe tbody tr th {\n",
       "        vertical-align: top;\n",
       "    }\n",
       "\n",
       "    .dataframe thead th {\n",
       "        text-align: right;\n",
       "    }\n",
       "</style>\n",
       "<table border=\"1\" class=\"dataframe\">\n",
       "  <thead>\n",
       "    <tr style=\"text-align: right;\">\n",
       "      <th></th>\n",
       "      <th>Unnamed: 0</th>\n",
       "      <th>income</th>\n",
       "      <th>happiness</th>\n",
       "    </tr>\n",
       "  </thead>\n",
       "  <tbody>\n",
       "    <tr>\n",
       "      <th>0</th>\n",
       "      <td>1</td>\n",
       "      <td>3.862647</td>\n",
       "      <td>2.314489</td>\n",
       "    </tr>\n",
       "    <tr>\n",
       "      <th>1</th>\n",
       "      <td>2</td>\n",
       "      <td>4.979381</td>\n",
       "      <td>3.433490</td>\n",
       "    </tr>\n",
       "    <tr>\n",
       "      <th>2</th>\n",
       "      <td>3</td>\n",
       "      <td>4.923957</td>\n",
       "      <td>4.599373</td>\n",
       "    </tr>\n",
       "    <tr>\n",
       "      <th>3</th>\n",
       "      <td>4</td>\n",
       "      <td>3.214372</td>\n",
       "      <td>2.791114</td>\n",
       "    </tr>\n",
       "    <tr>\n",
       "      <th>4</th>\n",
       "      <td>5</td>\n",
       "      <td>7.196409</td>\n",
       "      <td>5.596398</td>\n",
       "    </tr>\n",
       "    <tr>\n",
       "      <th>...</th>\n",
       "      <td>...</td>\n",
       "      <td>...</td>\n",
       "      <td>...</td>\n",
       "    </tr>\n",
       "    <tr>\n",
       "      <th>493</th>\n",
       "      <td>494</td>\n",
       "      <td>5.249209</td>\n",
       "      <td>4.568705</td>\n",
       "    </tr>\n",
       "    <tr>\n",
       "      <th>494</th>\n",
       "      <td>495</td>\n",
       "      <td>3.471799</td>\n",
       "      <td>2.535002</td>\n",
       "    </tr>\n",
       "    <tr>\n",
       "      <th>495</th>\n",
       "      <td>496</td>\n",
       "      <td>6.087610</td>\n",
       "      <td>4.397451</td>\n",
       "    </tr>\n",
       "    <tr>\n",
       "      <th>496</th>\n",
       "      <td>497</td>\n",
       "      <td>3.440847</td>\n",
       "      <td>2.070664</td>\n",
       "    </tr>\n",
       "    <tr>\n",
       "      <th>497</th>\n",
       "      <td>498</td>\n",
       "      <td>4.530545</td>\n",
       "      <td>3.710193</td>\n",
       "    </tr>\n",
       "  </tbody>\n",
       "</table>\n",
       "<p>498 rows × 3 columns</p>\n",
       "</div>"
      ],
      "text/plain": [
       "     Unnamed: 0    income  happiness\n",
       "0             1  3.862647   2.314489\n",
       "1             2  4.979381   3.433490\n",
       "2             3  4.923957   4.599373\n",
       "3             4  3.214372   2.791114\n",
       "4             5  7.196409   5.596398\n",
       "..          ...       ...        ...\n",
       "493         494  5.249209   4.568705\n",
       "494         495  3.471799   2.535002\n",
       "495         496  6.087610   4.397451\n",
       "496         497  3.440847   2.070664\n",
       "497         498  4.530545   3.710193\n",
       "\n",
       "[498 rows x 3 columns]"
      ]
     },
     "execution_count": 7,
     "metadata": {},
     "output_type": "execute_result"
    }
   ],
   "source": [
    "import pandas as pd \n",
    "from sklearn.linear_model import LinearRegression\n",
    "data = pd.read_csv(\"income-data.csv\")\n",
    "data"
   ]
  },
  {
   "cell_type": "markdown",
   "id": "5ee94677",
   "metadata": {},
   "source": [
    "#### a) Divide the data into training (75%) and testing data (25%)\n",
    "\n",
    "The data is split into training and testing sets to evaluate the performance of the linear regression model accurately. This approach helps prevent overfitting and provides a reliable assessment of the model's predictive capabilities."
   ]
  },
  {
   "cell_type": "code",
   "execution_count": 8,
   "id": "93b8af8b",
   "metadata": {},
   "outputs": [
    {
     "name": "stdout",
     "output_type": "stream",
     "text": [
      "(498,)\n",
      "(373,)\n",
      "(125,)\n"
     ]
    }
   ],
   "source": [
    "data.head()\n",
    "\n",
    "x = data['income']\n",
    "y = data['happiness']\n",
    "\n",
    "print(x.shape)\n",
    "\n",
    "\n",
    "from sklearn.model_selection import train_test_split\n",
    "X_train, X_test, y_train, y_test = train_test_split(x, y, test_size=0.25,random_state=1)\n",
    "print(X_train.shape)\n",
    "print(X_test.shape)\n",
    "\n",
    "from sklearn.linear_model import LinearRegression\n",
    "import numpy as np\n",
    "X_train=np.array(X_train).reshape(-1,1)\n",
    "y_train=np.array(y_train).reshape(-1,1)\n"
   ]
  },
  {
   "cell_type": "markdown",
   "id": "21c5b038",
   "metadata": {},
   "source": [
    "####  b) Analyze the impact of income to the happiness and display the intercept and regression coefficients. \n",
    "\n",
    "Here, the focus is on analyzing how income impacts happiness using the linear regression model. The intercept and regression coefficients provide insights into the relationship between income and happiness."
   ]
  },
  {
   "cell_type": "code",
   "execution_count": 9,
   "id": "1b53ec1e",
   "metadata": {},
   "outputs": [
    {
     "name": "stdout",
     "output_type": "stream",
     "text": [
      "Regression coefficient: [[0.72439314]]\n",
      "Intercept: [0.15010006]\n"
     ]
    }
   ],
   "source": [
    "model=LinearRegression()\n",
    "model.fit(X_train,y_train)\n",
    "print(\"Regression coefficient:\",model.coef_)\n",
    "print(\"Intercept:\",model.intercept_)"
   ]
  },
  {
   "cell_type": "markdown",
   "id": "b4b22c9c",
   "metadata": {},
   "source": [
    "#### c) Predict the y value (y') for the testing set (x)\n",
    "\n",
    "This question involves making predictions for the dependent variable (y) using the linear regression model and the testing set of independent variables (x)."
   ]
  },
  {
   "cell_type": "code",
   "execution_count": 10,
   "id": "4064e370",
   "metadata": {},
   "outputs": [
    {
     "name": "stdout",
     "output_type": "stream",
     "text": [
      "[[-0.20902371]\n",
      " [ 0.24688868]\n",
      " [ 0.01535053]\n",
      " [ 1.04593804]\n",
      " [-0.62382546]\n",
      " [ 0.11498501]\n",
      " [ 0.19991048]\n",
      " [ 0.38603329]\n",
      " [ 0.26148288]\n",
      " [-1.0736921 ]\n",
      " [-0.83354093]\n",
      " [ 0.92288894]\n",
      " [-1.08438055]\n",
      " [ 1.15375797]\n",
      " [-0.76757932]\n",
      " [ 0.38794116]\n",
      " [-0.40357815]\n",
      " [ 0.37561404]\n",
      " [ 0.09603918]\n",
      " [ 0.97463242]\n",
      " [-0.20407217]\n",
      " [-0.03789777]\n",
      " [ 0.19514366]\n",
      " [ 0.326977  ]\n",
      " [ 0.05223196]\n",
      " [ 1.19101141]\n",
      " [ 0.54180385]\n",
      " [-0.94761984]\n",
      " [ 0.03373841]\n",
      " [-1.19323399]\n",
      " [-0.63186114]\n",
      " [-0.00368302]\n",
      " [-0.09324993]\n",
      " [-0.48652895]\n",
      " [ 0.45990277]\n",
      " [ 0.51140824]\n",
      " [ 0.23326875]\n",
      " [-1.38093212]\n",
      " [-0.43620925]\n",
      " [ 0.72571336]\n",
      " [-0.39635938]\n",
      " [ 0.60829163]\n",
      " [ 0.23864852]\n",
      " [-0.47339112]\n",
      " [ 0.11770055]\n",
      " [-1.27357788]\n",
      " [ 0.99251169]\n",
      " [-0.46376536]\n",
      " [-1.20115165]\n",
      " [ 0.85724851]\n",
      " [ 0.21122598]\n",
      " [-0.39327232]\n",
      " [-0.96723354]\n",
      " [-0.42780348]\n",
      " [ 0.67715205]\n",
      " [-0.4317823 ]\n",
      " [ 0.06262246]\n",
      " [ 0.43292328]\n",
      " [-1.16072342]\n",
      " [-1.20567959]\n",
      " [-0.73317055]\n",
      " [-0.55200989]\n",
      " [ 0.12211812]\n",
      " [ 0.13840976]\n",
      " [ 1.48336516]\n",
      " [ 0.08379502]\n",
      " [ 1.21008697]\n",
      " [ 0.91672704]\n",
      " [-1.26063837]\n",
      " [ 0.78606351]\n",
      " [ 2.09322967]\n",
      " [-0.33374813]\n",
      " [ 0.06377516]\n",
      " [ 0.57635331]\n",
      " [ 0.75352009]\n",
      " [-0.41100316]\n",
      " [-0.60164444]\n",
      " [ 0.82232249]\n",
      " [-0.10830021]\n",
      " [ 0.11929066]\n",
      " [-0.43738073]\n",
      " [ 0.24761952]\n",
      " [-1.16137406]\n",
      " [ 0.52828414]\n",
      " [ 1.79713144]\n",
      " [ 0.46834003]\n",
      " [-0.10780403]\n",
      " [ 0.57871336]\n",
      " [-1.14073029]\n",
      " [ 0.09884223]\n",
      " [-0.14444106]\n",
      " [ 1.03944932]\n",
      " [-0.34329656]\n",
      " [ 0.46106221]\n",
      " [-0.14992535]\n",
      " [ 1.34538837]\n",
      " [-1.0749667 ]\n",
      " [ 0.2046762 ]\n",
      " [ 0.08713524]\n",
      " [-1.30328233]\n",
      " [-0.4595662 ]\n",
      " [-0.46487258]\n",
      " [-0.13043272]\n",
      " [ 0.14151558]\n",
      " [-0.35220198]\n",
      " [ 0.69631576]\n",
      " [-1.33008601]\n",
      " [ 0.82545517]\n",
      " [-0.63914876]\n",
      " [ 0.01281858]\n",
      " [-0.36648179]\n",
      " [-0.19712534]\n",
      " [-1.01607127]\n",
      " [ 0.61611368]\n",
      " [ 0.85859709]\n",
      " [ 0.09903751]\n",
      " [-0.92896617]\n",
      " [-0.45873137]\n",
      " [ 0.43267591]\n",
      " [ 1.68818645]\n",
      " [-0.63468382]\n",
      " [ 0.17121908]\n",
      " [ 0.44214226]\n",
      " [ 0.94775451]\n",
      " [ 1.50818057]]\n"
     ]
    }
   ],
   "source": [
    "X_test=np.array(X_test).reshape(-1,1)\n",
    "y_pred=model.predict(X_test)\n",
    "y_test=np.array(y_test).reshape(-1,1)\n",
    "err=y_test-y_pred\n",
    "print(err)"
   ]
  },
  {
   "cell_type": "markdown",
   "id": "82a72300",
   "metadata": {},
   "source": [
    "#### Plotting for prediction\n",
    "\n",
    "Visualization is key to understanding regression results. Here, a scatter plot is used to visualize the data points, and the regression line is marked to depict the relationship between variables."
   ]
  },
  {
   "cell_type": "code",
   "execution_count": 13,
   "id": "1cba359f",
   "metadata": {},
   "outputs": [
    {
     "data": {
      "image/png": "[encoded data removed]",
      "text/plain": [
       "<Figure size 432x288 with 1 Axes>"
      ]
     },
     "metadata": {
      "needs_background": "light"
     },
     "output_type": "display_data"
    }
   ],
   "source": [
    "import matplotlib.pyplot as plt\n",
    "plt.scatter (X_test, y_test, color = \"g\", marker = \"o\", s=30)\n",
    "# plotting the regression line\n",
    "plt.scatter(X_test, y_test, color=\"r\",marker=\"o\", s=30)\n",
    "plt.plot (X_test, y_pred, color=\"b\")\n",
    "plt.xlabel('x')\n",
    "plt.ylabel('y')\n",
    "plt.show()"
   ]
  },
  {
   "cell_type": "markdown",
   "id": "0debfd45",
   "metadata": {},
   "source": [
    "#### d) Analyse the performance metrics with the actual alue(y) and predict values (y')\n",
    "\n",
    "In this question, the model's performance is assessed by comparing the actual values (y) with the predicted values (y'). Various performance metrics are used to evaluate how well the model fits the data."
   ]
  },
  {
   "cell_type": "code",
   "execution_count": 11,
   "id": "55f55a0c",
   "metadata": {
    "scrolled": true
   },
   "outputs": [
    {
     "name": "stdout",
     "output_type": "stream",
     "text": [
      "Mean absolute error: 0.5981154412135175\n",
      "Mean squared error: 0.5553820457365192\n",
      "Variance score: 0.7324646979299446\n",
      "Root Mean Squared Error: 0.7452395894855017\n"
     ]
    }
   ],
   "source": [
    "from sklearn.metrics import mean_absolute_error,mean_squared_error,r2_score\n",
    "import math\n",
    "print('Mean absolute error:', mean_absolute_error(y_test, y_pred))\n",
    "print(\"Mean squared error:\", mean_squared_error(y_test, y_pred))\n",
    "print('Variance score:' ,r2_score(y_test, y_pred))\n",
    "print('Root Mean Squared Error:',math.sqrt(mean_squared_error(y_test, y_pred)))"
   ]
  },
  {
   "cell_type": "markdown",
   "id": "d825647d",
   "metadata": {},
   "source": [
    "### Conclusion: Unveiling insights through Simple Linear Regression\n",
    "\n",
    "In the realm of data science, Simple Linear Regression stands as a cornerstone technique that bridges the gap between raw data and actionable insights. Through its elegant equation **y = b0 + b1x + ε**, this method empowers us to unravel the intricate relationships between variables, enabling a deeper understanding of the underlying dynamics.\n",
    "\n",
    "By embarking on a journey through this notebook's questions, we've navigated the terrain of Simple Linear Regression and witnessed its transformative potential:\n",
    "\n",
    "1. **Precision in Prediction:** Simple Linear Regression equips us with the ability to forecast outcomes with precision. It serves as a compass, guiding us toward anticipating future trends based on historical patterns.\n",
    "\n",
    "2. **Revealing Patterns:** The regression coefficient (b1) acts as a magnifying glass, revealing the strength and direction of the relationship between variables. Through this lens, we discern patterns that inform decision-making.\n",
    "\n",
    "3. **Informed Decision-Making:** Simple Linear Regression isn't merely a mathematical tool; it's a vehicle for informed choices. By testing hypotheses and assessing statistical significance, we empower ourselves with data-driven insights.\n",
    "\n",
    "4. **Fine-Tuning Performance:** Our exploration of performance metrics - Mean Squared Error, Mean Absolute Error, Root Mean Squared Error, and R-squared - illustrates the art of refining model accuracy. This iterative process hones our predictive capabilities.\n",
    "\n",
    "5. **Visual Narratives:** Visualization becomes our storyteller, painting a vivid picture of the data's behavior. As we superimpose the regression line onto scatter plots, we unveil a compelling narrative that resonates with stakeholders.\n",
    "\n",
    "With each query I have posed and every answer I have derived, I have unlocked the potential of Simple Linear Regression. This foundational technique opens doors to more advanced models and sets the stage for a deeper dive into the complexities of data analysis.\n",
    "\n",
    "As we step back from this journey, I recognize Simple Linear Regression as a guiding star in the galaxy of data science. Its brilliance lies not only in its mathematical elegance but also in its capacity to illuminate the path from data to knowledge.\n",
    "\n",
    "In the ever-evolving landscape of data, Simple Linear Regression remains a steadfast beacon, It will guiding us toward insights that shape our understanding and fuel our progress."
   ]
  },
  {
   "cell_type": "markdown",
   "id": "ce6d9022",
   "metadata": {},
   "source": [
    "**Contact Information:**\n",
    "\n",
    "For any inquiries or further discussions related to this notebook, please feel free to reach out to me. I welcome the opportunity to connect and engage in data-related conversations. \n",
    "\n",
    "👤 Email: [info@rubangino.in](https://info@rubangino.in/)\n",
    "\n",
    "🌐 LinkedIn: [https://www.linkedin.com/in/ruban-gino-singh/](https://www.linkedin.com/in/ruban-gino-singh/)\n",
    "\n",
    "📧 Twitter: [https://twitter.com/Rubangino](https://twitter.com/Rubangino)\n",
    "\n",
    "🌐 Github: [https://github.com/Ruban2205](https://github.com/Ruban2205)\n",
    "\n",
    "Let's connect and Explore the fascinating world of data analysis together!"
   ]
  }
 ],
 "metadata": {
  "kernelspec": {
   "display_name": "Python 3",
   "language": "python",
   "name": "python3"
  },
  "language_info": {
   "codemirror_mode": {
    "name": "ipython",
    "version": 3
   },
   "file_extension": ".py",
   "mimetype": "text/x-python",
   "name": "python",
   "nbconvert_exporter": "python",
   "pygments_lexer": "ipython3",
   "version": "3.7.9"
  }
 },
 "nbformat": 4,
 "nbformat_minor": 5
}
