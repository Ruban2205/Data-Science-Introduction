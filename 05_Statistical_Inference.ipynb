{
 "cells": [
  {
   "cell_type": "markdown",
   "id": "5c520b18",
   "metadata": {},
   "source": [
    "# <center>Statistical Inference</center> "
   ]
  },
  {
   "cell_type": "markdown",
   "id": "46a350a3",
   "metadata": {},
   "source": [
    "## Introduction"
   ]
  },
  {
   "cell_type": "markdown",
   "id": "53ce52fa",
   "metadata": {},
   "source": [
    "Statistical Inference is a fundamental concept in data science that allows us to make conclusions or predictions about a population based on sample data. It involves drawing inferences, estimating parameters, and testing hypotheses using statistical techniques. Statistical inference enables us to make data-driven decisions, understand the uncertainty associated with our findings, and make generalizations about a larger population.\n",
    "\n",
    "In data science, statistical inference plays a crucial role in analyzing and interpreting data. It involves making use of probability distributions, sampling methods, estimation techniques, hypothesis testing, and confidence intervals to draw meaningful insights from data. By applying these techniques, we can make inferences about the underlying population, assess the significance of relationships or differences, and quantify the uncertainty in our conclusions.\n",
    "\n",
    "Statistical inference allows us to answer important questions such as:\n",
    "\n",
    "- What is the mean or average value of a population?\n",
    "- Are there significant differences between groups or variables?\n",
    "- What is the relationship between variables?\n",
    "- Can we make reliable predictions or forecasts based on our data?\n",
    "\n",
    "By understanding statistical inference, data scientists can confidently make decisions, provide insights to stakeholders, and drive data-based strategies."
   ]
  },
  {
   "cell_type": "markdown",
   "id": "969248dd",
   "metadata": {},
   "source": [
    "## Example Questions"
   ]
  },
  {
   "cell_type": "markdown",
   "id": "31acbd4e",
   "metadata": {},
   "source": [
    "#### Import the pandas, numpy, matplot, stats from scipy, and math library"
   ]
  },
  {
   "cell_type": "code",
   "execution_count": null,
   "id": "698c2119",
   "metadata": {
    "colab": {
     "base_uri": "https://localhost:8080/",
     "height": 522
    },
    "id": "698c2119",
    "outputId": "f44ff4e6-c3f9-457c-d935-b3f8f186718a"
   },
   "outputs": [
    {
     "data": {
      "text/html": [
       "\n",
       "  <div id=\"df-2b075a19-632d-4194-9bdf-bac476ab06b9\">\n",
       "    <div class=\"colab-df-container\">\n",
       "      <div>\n",
       "<style scoped>\n",
       "    .dataframe tbody tr th:only-of-type {\n",
       "        vertical-align: middle;\n",
       "    }\n",
       "\n",
       "    .dataframe tbody tr th {\n",
       "        vertical-align: top;\n",
       "    }\n",
       "\n",
       "    .dataframe thead th {\n",
       "        text-align: right;\n",
       "    }\n",
       "</style>\n",
       "<table border=\"1\" class=\"dataframe\">\n",
       "  <thead>\n",
       "    <tr style=\"text-align: right;\">\n",
       "      <th></th>\n",
       "      <th>Unnamed: 0</th>\n",
       "      <th>carat</th>\n",
       "      <th>cut</th>\n",
       "      <th>color</th>\n",
       "      <th>clarity</th>\n",
       "      <th>depth</th>\n",
       "      <th>table</th>\n",
       "      <th>price</th>\n",
       "      <th>x</th>\n",
       "      <th>y</th>\n",
       "      <th>z</th>\n",
       "    </tr>\n",
       "  </thead>\n",
       "  <tbody>\n",
       "    <tr>\n",
       "      <th>0</th>\n",
       "      <td>1</td>\n",
       "      <td>0.23</td>\n",
       "      <td>Ideal</td>\n",
       "      <td>E</td>\n",
       "      <td>SI2</td>\n",
       "      <td>61.5</td>\n",
       "      <td>55.0</td>\n",
       "      <td>326.0</td>\n",
       "      <td>3.95</td>\n",
       "      <td>3.98</td>\n",
       "      <td>2.43</td>\n",
       "    </tr>\n",
       "    <tr>\n",
       "      <th>1</th>\n",
       "      <td>2</td>\n",
       "      <td>0.21</td>\n",
       "      <td>Premium</td>\n",
       "      <td>E</td>\n",
       "      <td>SI1</td>\n",
       "      <td>59.8</td>\n",
       "      <td>61.0</td>\n",
       "      <td>326.0</td>\n",
       "      <td>3.89</td>\n",
       "      <td>3.84</td>\n",
       "      <td>2.31</td>\n",
       "    </tr>\n",
       "    <tr>\n",
       "      <th>2</th>\n",
       "      <td>3</td>\n",
       "      <td>0.23</td>\n",
       "      <td>Good</td>\n",
       "      <td>E</td>\n",
       "      <td>VS1</td>\n",
       "      <td>56.9</td>\n",
       "      <td>65.0</td>\n",
       "      <td>327.0</td>\n",
       "      <td>4.05</td>\n",
       "      <td>4.07</td>\n",
       "      <td>2.31</td>\n",
       "    </tr>\n",
       "    <tr>\n",
       "      <th>3</th>\n",
       "      <td>4</td>\n",
       "      <td>0.29</td>\n",
       "      <td>Premium</td>\n",
       "      <td>I</td>\n",
       "      <td>VS2</td>\n",
       "      <td>62.4</td>\n",
       "      <td>58.0</td>\n",
       "      <td>334.0</td>\n",
       "      <td>4.20</td>\n",
       "      <td>4.23</td>\n",
       "      <td>2.63</td>\n",
       "    </tr>\n",
       "    <tr>\n",
       "      <th>4</th>\n",
       "      <td>5</td>\n",
       "      <td>0.31</td>\n",
       "      <td>Good</td>\n",
       "      <td>J</td>\n",
       "      <td>SI2</td>\n",
       "      <td>63.3</td>\n",
       "      <td>58.0</td>\n",
       "      <td>335.0</td>\n",
       "      <td>4.34</td>\n",
       "      <td>4.35</td>\n",
       "      <td>2.75</td>\n",
       "    </tr>\n",
       "    <tr>\n",
       "      <th>...</th>\n",
       "      <td>...</td>\n",
       "      <td>...</td>\n",
       "      <td>...</td>\n",
       "      <td>...</td>\n",
       "      <td>...</td>\n",
       "      <td>...</td>\n",
       "      <td>...</td>\n",
       "      <td>...</td>\n",
       "      <td>...</td>\n",
       "      <td>...</td>\n",
       "      <td>...</td>\n",
       "    </tr>\n",
       "    <tr>\n",
       "      <th>89230</th>\n",
       "      <td>53936</td>\n",
       "      <td>0.72</td>\n",
       "      <td>Ideal</td>\n",
       "      <td>D</td>\n",
       "      <td>SI1</td>\n",
       "      <td>60.8</td>\n",
       "      <td>57.0</td>\n",
       "      <td>2757.0</td>\n",
       "      <td>5.75</td>\n",
       "      <td>5.76</td>\n",
       "      <td>3.50</td>\n",
       "    </tr>\n",
       "    <tr>\n",
       "      <th>89231</th>\n",
       "      <td>53937</td>\n",
       "      <td>0.72</td>\n",
       "      <td>Good</td>\n",
       "      <td>D</td>\n",
       "      <td>SI1</td>\n",
       "      <td>63.1</td>\n",
       "      <td>55.0</td>\n",
       "      <td>2757.0</td>\n",
       "      <td>5.69</td>\n",
       "      <td>5.75</td>\n",
       "      <td>3.61</td>\n",
       "    </tr>\n",
       "    <tr>\n",
       "      <th>89232</th>\n",
       "      <td>53938</td>\n",
       "      <td>0.70</td>\n",
       "      <td>Very Good</td>\n",
       "      <td>D</td>\n",
       "      <td>SI1</td>\n",
       "      <td>62.8</td>\n",
       "      <td>60.0</td>\n",
       "      <td>2757.0</td>\n",
       "      <td>5.66</td>\n",
       "      <td>5.68</td>\n",
       "      <td>3.56</td>\n",
       "    </tr>\n",
       "    <tr>\n",
       "      <th>89233</th>\n",
       "      <td>53939</td>\n",
       "      <td>0.86</td>\n",
       "      <td>Premium</td>\n",
       "      <td>H</td>\n",
       "      <td>SI2</td>\n",
       "      <td>61.0</td>\n",
       "      <td>58.0</td>\n",
       "      <td>2757.0</td>\n",
       "      <td>6.15</td>\n",
       "      <td>6.12</td>\n",
       "      <td>3.74</td>\n",
       "    </tr>\n",
       "    <tr>\n",
       "      <th>89234</th>\n",
       "      <td>53940</td>\n",
       "      <td>0.75</td>\n",
       "      <td>Ideal</td>\n",
       "      <td>D</td>\n",
       "      <td>SI2</td>\n",
       "      <td>62.2</td>\n",
       "      <td>55.0</td>\n",
       "      <td>2757.0</td>\n",
       "      <td>5.83</td>\n",
       "      <td>5.87</td>\n",
       "      <td>3.64</td>\n",
       "    </tr>\n",
       "  </tbody>\n",
       "</table>\n",
       "<p>89235 rows × 11 columns</p>\n",
       "</div>\n",
       "      <button class=\"colab-df-convert\" onclick=\"convertToInteractive('df-2b075a19-632d-4194-9bdf-bac476ab06b9')\"\n",
       "              title=\"Convert this dataframe to an interactive table.\"\n",
       "              style=\"display:none;\">\n",
       "        \n",
       "  <svg xmlns=\"http://www.w3.org/2000/svg\" height=\"24px\"viewBox=\"0 0 24 24\"\n",
       "       width=\"24px\">\n",
       "    <path d=\"M0 0h24v24H0V0z\" fill=\"none\"/>\n",
       "    <path d=\"M18.56 5.44l.94 2.06.94-2.06 2.06-.94-2.06-.94-.94-2.06-.94 2.06-2.06.94zm-11 1L8.5 8.5l.94-2.06 2.06-.94-2.06-.94L8.5 2.5l-.94 2.06-2.06.94zm10 10l.94 2.06.94-2.06 2.06-.94-2.06-.94-.94-2.06-.94 2.06-2.06.94z\"/><path d=\"M17.41 7.96l-1.37-1.37c-.4-.4-.92-.59-1.43-.59-.52 0-1.04.2-1.43.59L10.3 9.45l-7.72 7.72c-.78.78-.78 2.05 0 2.83L4 21.41c.39.39.9.59 1.41.59.51 0 1.02-.2 1.41-.59l7.78-7.78 2.81-2.81c.8-.78.8-2.07 0-2.86zM5.41 20L4 18.59l7.72-7.72 1.47 1.35L5.41 20z\"/>\n",
       "  </svg>\n",
       "      </button>\n",
       "      \n",
       "  <style>\n",
       "    .colab-df-container {\n",
       "      display:flex;\n",
       "      flex-wrap:wrap;\n",
       "      gap: 12px;\n",
       "    }\n",
       "\n",
       "    .colab-df-convert {\n",
       "      background-color: #E8F0FE;\n",
       "      border: none;\n",
       "      border-radius: 50%;\n",
       "      cursor: pointer;\n",
       "      display: none;\n",
       "      fill: #1967D2;\n",
       "      height: 32px;\n",
       "      padding: 0 0 0 0;\n",
       "      width: 32px;\n",
       "    }\n",
       "\n",
       "    .colab-df-convert:hover {\n",
       "      background-color: #E2EBFA;\n",
       "      box-shadow: 0px 1px 2px rgba(60, 64, 67, 0.3), 0px 1px 3px 1px rgba(60, 64, 67, 0.15);\n",
       "      fill: #174EA6;\n",
       "    }\n",
       "\n",
       "    [theme=dark] .colab-df-convert {\n",
       "      background-color: #3B4455;\n",
       "      fill: #D2E3FC;\n",
       "    }\n",
       "\n",
       "    [theme=dark] .colab-df-convert:hover {\n",
       "      background-color: #434B5C;\n",
       "      box-shadow: 0px 1px 3px 1px rgba(0, 0, 0, 0.15);\n",
       "      filter: drop-shadow(0px 1px 2px rgba(0, 0, 0, 0.3));\n",
       "      fill: #FFFFFF;\n",
       "    }\n",
       "  </style>\n",
       "\n",
       "      <script>\n",
       "        const buttonEl =\n",
       "          document.querySelector('#df-2b075a19-632d-4194-9bdf-bac476ab06b9 button.colab-df-convert');\n",
       "        buttonEl.style.display =\n",
       "          google.colab.kernel.accessAllowed ? 'block' : 'none';\n",
       "\n",
       "        async function convertToInteractive(key) {\n",
       "          const element = document.querySelector('#df-2b075a19-632d-4194-9bdf-bac476ab06b9');\n",
       "          const dataTable =\n",
       "            await google.colab.kernel.invokeFunction('convertToInteractive',\n",
       "                                                     [key], {});\n",
       "          if (!dataTable) return;\n",
       "\n",
       "          const docLinkHtml = 'Like what you see? Visit the ' +\n",
       "            '<a target=\"_blank\" href=https://colab.research.google.com/notebooks/data_table.ipynb>data table notebook</a>'\n",
       "            + ' to learn more about interactive tables.';\n",
       "          element.innerHTML = '';\n",
       "          dataTable['output_type'] = 'display_data';\n",
       "          await google.colab.output.renderOutput(dataTable, element);\n",
       "          const docLink = document.createElement('div');\n",
       "          docLink.innerHTML = docLinkHtml;\n",
       "          element.appendChild(docLink);\n",
       "        }\n",
       "      </script>\n",
       "    </div>\n",
       "  </div>\n",
       "  "
      ],
      "text/plain": [
       "       Unnamed: 0  carat        cut color clarity  depth  table   price     x  \\\n",
       "0               1   0.23      Ideal     E     SI2   61.5   55.0   326.0  3.95   \n",
       "1               2   0.21    Premium     E     SI1   59.8   61.0   326.0  3.89   \n",
       "2               3   0.23       Good     E     VS1   56.9   65.0   327.0  4.05   \n",
       "3               4   0.29    Premium     I     VS2   62.4   58.0   334.0  4.20   \n",
       "4               5   0.31       Good     J     SI2   63.3   58.0   335.0  4.34   \n",
       "...           ...    ...        ...   ...     ...    ...    ...     ...   ...   \n",
       "89230       53936   0.72      Ideal     D     SI1   60.8   57.0  2757.0  5.75   \n",
       "89231       53937   0.72       Good     D     SI1   63.1   55.0  2757.0  5.69   \n",
       "89232       53938   0.70  Very Good     D     SI1   62.8   60.0  2757.0  5.66   \n",
       "89233       53939   0.86    Premium     H     SI2   61.0   58.0  2757.0  6.15   \n",
       "89234       53940   0.75      Ideal     D     SI2   62.2   55.0  2757.0  5.83   \n",
       "\n",
       "          y     z  \n",
       "0      3.98  2.43  \n",
       "1      3.84  2.31  \n",
       "2      4.07  2.31  \n",
       "3      4.23  2.63  \n",
       "4      4.35  2.75  \n",
       "...     ...   ...  \n",
       "89230  5.76  3.50  \n",
       "89231  5.75  3.61  \n",
       "89232  5.68  3.56  \n",
       "89233  6.12  3.74  \n",
       "89234  5.87  3.64  \n",
       "\n",
       "[89235 rows x 11 columns]"
      ]
     },
     "execution_count": 12,
     "metadata": {},
     "output_type": "execute_result"
    }
   ],
   "source": [
    "import pandas as pd \n",
    "import numpy as np\n",
    "import matplotlib.pyplot as plt\n",
    "import scipy.stats as stats\n",
    "import math\n",
    "data = pd.read_csv(\"diamonds.csv\")\n",
    "data\n"
   ]
  },
  {
   "cell_type": "markdown",
   "id": "6f7b28b2",
   "metadata": {},
   "source": [
    "#### 1) Calculate the sample mean for 'price' column with n=500 and observe\n",
    "\n",
    " In this question, we calculate the sample mean for the 'price' column using two different sample sizes: n=500 and n=100. By comparing the means, we can observe the impact of sample size on the accuracy of the estimate."
   ]
  },
  {
   "cell_type": "code",
   "execution_count": null,
   "id": "54f190e1",
   "metadata": {
    "colab": {
     "base_uri": "https://localhost:8080/"
    },
    "id": "54f190e1",
    "outputId": "9b6e3655-a0f6-401d-8bb8-1385c25ea088"
   },
   "outputs": [
    {
     "name": "stdout",
     "output_type": "stream",
     "text": [
      "Sample Mean of 500 samples:  3837.95\n"
     ]
    }
   ],
   "source": [
    "n = 100\n",
    "samples = np.random.choice(a=data[\"price\"], size=n)\n",
    "mean1 = samples.mean()\n",
    "print(\"Sample Mean of 500 samples: \", mean1)"
   ]
  },
  {
   "cell_type": "markdown",
   "id": "75467345",
   "metadata": {},
   "source": [
    "#### 2) Calculate the sample mean for 'price' column with n=1000 and observe\n",
    "\n",
    "Similar to the previous question, this question calculates the sample mean for the 'price' column with a larger sample size of n=1000. The purpose is to observe the effect of increasing sample size on the precision of the estimate."
   ]
  },
  {
   "cell_type": "code",
   "execution_count": null,
   "id": "3dca12b8",
   "metadata": {
    "colab": {
     "base_uri": "https://localhost:8080/"
    },
    "id": "3dca12b8",
    "outputId": "b1903963-d35e-4831-c513-64ebb995c142"
   },
   "outputs": [
    {
     "name": "stdout",
     "output_type": "stream",
     "text": [
      "Sample Mean of 500 samples:  4041.472\n"
     ]
    }
   ],
   "source": [
    "n1 = 1000\n",
    "sample1 = np.random.choice(a=data[\"price\"], size=n1)\n",
    "mean2 = sample1.mean()\n",
    "print(\"Sample Mean of 500 samples: \", mean2)"
   ]
  },
  {
   "cell_type": "markdown",
   "id": "84d672b1",
   "metadata": {},
   "source": [
    "#### 3) Calculate the population mean for 'price' column \n",
    "\n",
    "This question involves calculating the population mean for the 'price' column, which provides a measure of the central tendency of the entire population."
   ]
  },
  {
   "cell_type": "code",
   "execution_count": null,
   "id": "5ecd8b68",
   "metadata": {
    "colab": {
     "base_uri": "https://localhost:8080/"
    },
    "id": "5ecd8b68",
    "outputId": "1f227850-e094-433c-b0a8-4fbdee2f6b5a"
   },
   "outputs": [
    {
     "name": "stdout",
     "output_type": "stream",
     "text": [
      "Population mean:  3889.649087353617\n"
     ]
    }
   ],
   "source": [
    "population = data[\"price\"].mean()\n",
    "print(\"Population mean: \", population)"
   ]
  },
  {
   "cell_type": "markdown",
   "id": "2d1b887a",
   "metadata": {},
   "source": [
    "#### 4) Calculate the confidence interval (CI) with the sample mean for the 'price' column of n=500 and a confidence level of 95%\n",
    "\n",
    "Here, we calculate the confidence interval for the sample mean of the 'price' column using a sample size of n=500 and a confidence level of 95%. The goal is to determine if the population mean falls within the calculated interval."
   ]
  },
  {
   "cell_type": "code",
   "execution_count": null,
   "id": "3dd8b53c",
   "metadata": {
    "colab": {
     "base_uri": "https://localhost:8080/"
    },
    "id": "3dd8b53c",
    "outputId": "8c4e019f-2a40-4bce-f306-da4287b22dbe"
   },
   "outputs": [
    {
     "name": "stdout",
     "output_type": "stream",
     "text": [
      "Sample mean of 500 samples:  3837.95\n",
      "Sample SD of 500 samples:  4179.157337011852\n",
      "Z_Score:  1.96\n",
      "Confidience Intervals:  3018.8351619456766 4657.0648380543225\n",
      "[ 3018.8351619456766 3889.649087353617 4657.0648380543225 ]\n"
     ]
    }
   ],
   "source": [
    "print(\"Sample mean of 500 samples: \", mean1)\n",
    "SD = samples.std()\n",
    "print(\"Sample SD of 500 samples: \", SD)\n",
    "CL = 0.95\n",
    "alpha = (1-CL)/2\n",
    "z_critical = round(stats.norm.ppf(1-alpha), 2)\n",
    "print(\"Z_Score: \", z_critical)\n",
    "er=z_critical*(SD/math.sqrt(n))\n",
    "L=mean1-er\n",
    "H=mean1+er\n",
    "print(\"Confidience Intervals: \", L, H)\n",
    "print(\"[\",L,population,H,\"]\")"
   ]
  },
  {
   "cell_type": "markdown",
   "id": "de348117",
   "metadata": {},
   "source": [
    "#### 6) Change the confidence and observe the confidence interval for the same sample mean for the 'price' column of n=500\n",
    "\n",
    "In this question, we alter the confidence level and observe the corresponding changes in the confidence interval for the sample mean of the 'price' column with a fixed sample size of n=500. This allows us to understand the relationship between confidence level and interval width."
   ]
  },
  {
   "cell_type": "code",
   "execution_count": null,
   "id": "e61c185c",
   "metadata": {
    "colab": {
     "base_uri": "https://localhost:8080/"
    },
    "id": "e61c185c",
    "outputId": "d0025603-cf51-4491-c056-157b61720cb2"
   },
   "outputs": [
    {
     "name": "stdout",
     "output_type": "stream",
     "text": [
      "Sample mean of 500 samples:  3837.95\n",
      "Sample SD of 500 samples:  4179.157337011852\n",
      "Z_Score:  2.58\n",
      "Confidience Intervals:  2759.727407050942 4916.172592949058\n",
      "[ 2759.727407050942 3889.649087353617 4916.172592949058 ]\n"
     ]
    }
   ],
   "source": [
    "print(\"Sample mean of 500 samples: \", mean1)\n",
    "SD = samples.std()\n",
    "print(\"Sample SD of 500 samples: \", SD)\n",
    "CL = 0.99\n",
    "alpha = (1-CL)/2\n",
    "z_critical = round(stats.norm.ppf(1-alpha), 2)\n",
    "print(\"Z_Score: \", z_critical)\n",
    "er=z_critical*(SD/math.sqrt(n))\n",
    "L=mean1-er\n",
    "H=mean1+er\n",
    "print(\"Confidience Intervals: \", L, H)\n",
    "print(\"[\",L,population,H,\"]\")"
   ]
  },
  {
   "cell_type": "markdown",
   "id": "5ba245cc",
   "metadata": {},
   "source": [
    "#### 6) Calculate and plot the Confidence Intervals for 25 Trials with n=500 and CI=95% for the 'price' column\n",
    "\n",
    "Here, we perform 25 trials of calculating confidence intervals for the 'price' column with a sample size of n=500 and a confidence level of 95%. The results are plotted to visualize the variability and coverage of the confidence intervals."
   ]
  },
  {
   "cell_type": "code",
   "execution_count": null,
   "id": "d3781c47",
   "metadata": {
    "colab": {
     "base_uri": "https://localhost:8080/",
     "height": 394
    },
    "id": "d3781c47",
    "outputId": "1932ebbb-3540-4440-9d03-2ccf1249d9a7"
   },
   "outputs": [
    {
     "name": "stdout",
     "output_type": "stream",
     "text": [
      "Sample mean:  [3643.0, 3719.836, 3921.09, 3895.154, 3798.124, 3924.118, 3870.9, 3976.066, 3987.856, 4359.996, 3989.526, 4030.618, 4099.472, 3855.598, 3754.088, 3776.542, 3807.712, 3854.866, 3886.692, 3593.376, 4012.776, 4125.282, 4121.98, 3921.026, 3593.844]\n",
      "Population Mean:  3889.649087353617\n",
      "Intervals:  [(3283.3050813524196, 4002.6949186475804), (3348.4280710541802, 4091.2439289458193), (3537.610091735962, 4304.569908264038), (3526.934474411334, 4263.373525588666), (3422.343920721936, 4173.904079278063), (3545.8902507489925, 4302.345749251008), (3503.713296155138, 4238.086703844862), (3607.685396815299, 4344.4466031847005), (3612.178882052687, 4363.533117947313), (3952.3834590190827, 4767.6085409809175), (3598.638723806229, 4380.413276193771), (3643.6222571401304, 4417.6137428598695), (3707.272190769606, 4491.671809230394), (3483.44503305953, 4227.75096694047), (3381.1932902784592, 4126.982709721541), (3412.1730405459493, 4140.9109594540505), (3449.042865150849, 4166.381134849151), (3493.410576570768, 4216.321423429232), (3498.470296081932, 4274.913703918068), (3234.327139715778, 3952.4248602842226), (3626.617136709643, 4398.934863290357), (3742.8519101929523, 4507.712089807048), (3713.1836420612976, 4530.776357938702), (3533.561449802439, 4308.490550197561), (3238.8993567997836, 3948.7886432002165)]\n",
      "\n",
      "\n"
     ]
    },
    {
     "data": {
      "image/png": "[encoded data removed]",
      "text/plain": [
       "<Figure size 432x288 with 1 Axes>"
      ]
     },
     "metadata": {
      "needs_background": "light"
     },
     "output_type": "display_data"
    }
   ],
   "source": [
    "sample_size=500\n",
    "intervals = []\n",
    "sample_means = [] \n",
    "CL = 0.95\n",
    "ALPHA = (1-CL)/2\n",
    "z_critical = round(stats.norm.ppf(1-ALPHA), 2)\n",
    "p = data[\"price\"].mean()\n",
    "\n",
    "for samp in range(25):\n",
    "  samp = np.random.choice(a=data[\"price\"], size=sample_size)\n",
    "  samp_mean = samp.mean()\n",
    "  sample_means.append(samp_mean)\n",
    "  sample_std = samp.std()\n",
    "  margin_of_error = z_critical * (sample_std/math.sqrt(sample_size))\n",
    "  confidence_interval = (samp_mean - margin_of_error, samp_mean + margin_of_error)\n",
    "  intervals.append(confidence_interval)\n",
    "\n",
    "print(\"Sample mean: \", sample_means)\n",
    "print(\"Population Mean: \", p)\n",
    "print(\"Intervals: \", intervals)\n",
    "\n",
    "plt.errorbar(x=np.arange(0.1, 25, 1), y=sample_means, yerr=[(top-bot)/2 for top, bot in intervals], fmt='o')\n",
    "print()\n",
    "plt.hlines(xmin=0, xmax=25, y=p, linewidth=2.0, color=\"red\")\n",
    "print()\n",
    "plt.title(\"Confidence Intervals for 25 Trials\", fontsize=15)\n",
    "plt.show()"
   ]
  },
  {
   "cell_type": "markdown",
   "id": "63e79197",
   "metadata": {},
   "source": [
    "#### 7) Calculate the Correlation Coefficient using Pearson for the given table\n",
    "\n",
    "This question involves calculating the correlation coefficient using the Pearson method for a given table. The correlation coefficient measures the strength and direction of the linear relationship between two variables."
   ]
  },
  {
   "cell_type": "code",
   "execution_count": null,
   "id": "6bf4e519",
   "metadata": {
    "colab": {
     "base_uri": "https://localhost:8080/"
    },
    "id": "6bf4e519",
    "outputId": "bf950255-84e9-4092-877c-ec4e24968fff"
   },
   "outputs": [
    {
     "name": "stdout",
     "output_type": "stream",
     "text": [
      "Pearsons correlation: 0.610\n"
     ]
    }
   ],
   "source": [
    "from scipy.stats import pearsonr \n",
    "from scipy.stats import spearmanr\n",
    "import matplotlib.pyplot as plt\n",
    "x=[150, 169, 175, 180, 200] #weight\n",
    "y=[125, 130, 160, 169, 150] #blood pressure\n",
    "corr, _ = pearsonr(x,y)\n",
    "print(\"Pearsons correlation: %.3f\" %corr)"
   ]
  },
  {
   "cell_type": "markdown",
   "id": "6bac20ae",
   "metadata": {},
   "source": [
    "#### 8) This question involves calculating the correlation coefficient using the Pearson method for a given table. The correlation coefficient measures the strength and direction of the linear relationship between two variables.\n",
    "\n",
    "Similar to the previous question, this question calculates the correlation coefficient using the Spearman method for the given table. The Spearman correlation measures the monotonic relationship between variables, which may not necessarily be linear."
   ]
  },
  {
   "cell_type": "code",
   "execution_count": null,
   "id": "cf631a24",
   "metadata": {
    "colab": {
     "base_uri": "https://localhost:8080/"
    },
    "id": "cf631a24",
    "outputId": "c1d0fe62-9cd1-4c92-f0b3-c324e1c134e8"
   },
   "outputs": [
    {
     "name": "stdout",
     "output_type": "stream",
     "text": [
      "Spearmans corelation: 0.700\n"
     ]
    }
   ],
   "source": [
    "corr, _ = spearmanr(x,y)\n",
    "print(\"Spearmans corelation: %.3f\" %corr)"
   ]
  },
  {
   "cell_type": "markdown",
   "id": "0662076f",
   "metadata": {},
   "source": [
    "#### 9) Calculate the Covariance Matrix for the given data and analyze it:\n",
    "\n",
    "In this question, we calculate the covariance matrix for the given data. The covariance matrix provides insights into the relationships and dependencies between variables, allowing us to understand the patterns of co-variation."
   ]
  },
  {
   "cell_type": "code",
   "execution_count": null,
   "id": "b9bd1ddc",
   "metadata": {
    "colab": {
     "base_uri": "https://localhost:8080/",
     "height": 180
    },
    "id": "b9bd1ddc",
    "outputId": "af2ddb6f-9a11-400c-b6c4-856d81c46ba8"
   },
   "outputs": [
    {
     "name": "stdout",
     "output_type": "stream",
     "text": [
      "Pearson correlation: 0.845\n",
      "Spearmans correlation: 0.825\n"
     ]
    },
    {
     "data": {
      "text/html": [
       "\n",
       "  <div id=\"df-cf6de9b7-2ff7-4e81-87de-069c85d74329\">\n",
       "    <div class=\"colab-df-container\">\n",
       "      <div>\n",
       "<style scoped>\n",
       "    .dataframe tbody tr th:only-of-type {\n",
       "        vertical-align: middle;\n",
       "    }\n",
       "\n",
       "    .dataframe tbody tr th {\n",
       "        vertical-align: top;\n",
       "    }\n",
       "\n",
       "    .dataframe thead th {\n",
       "        text-align: right;\n",
       "    }\n",
       "</style>\n",
       "<table border=\"1\" class=\"dataframe\">\n",
       "  <thead>\n",
       "    <tr style=\"text-align: right;\">\n",
       "      <th></th>\n",
       "      <th>Math</th>\n",
       "      <th>English</th>\n",
       "      <th>Art</th>\n",
       "    </tr>\n",
       "  </thead>\n",
       "  <tbody>\n",
       "    <tr>\n",
       "      <th>Math</th>\n",
       "      <td>630.0</td>\n",
       "      <td>630.0</td>\n",
       "      <td>225.0</td>\n",
       "    </tr>\n",
       "    <tr>\n",
       "      <th>English</th>\n",
       "      <td>630.0</td>\n",
       "      <td>630.0</td>\n",
       "      <td>225.0</td>\n",
       "    </tr>\n",
       "    <tr>\n",
       "      <th>Art</th>\n",
       "      <td>225.0</td>\n",
       "      <td>225.0</td>\n",
       "      <td>900.0</td>\n",
       "    </tr>\n",
       "  </tbody>\n",
       "</table>\n",
       "</div>\n",
       "      <button class=\"colab-df-convert\" onclick=\"convertToInteractive('df-cf6de9b7-2ff7-4e81-87de-069c85d74329')\"\n",
       "              title=\"Convert this dataframe to an interactive table.\"\n",
       "              style=\"display:none;\">\n",
       "        \n",
       "  <svg xmlns=\"http://www.w3.org/2000/svg\" height=\"24px\"viewBox=\"0 0 24 24\"\n",
       "       width=\"24px\">\n",
       "    <path d=\"M0 0h24v24H0V0z\" fill=\"none\"/>\n",
       "    <path d=\"M18.56 5.44l.94 2.06.94-2.06 2.06-.94-2.06-.94-.94-2.06-.94 2.06-2.06.94zm-11 1L8.5 8.5l.94-2.06 2.06-.94-2.06-.94L8.5 2.5l-.94 2.06-2.06.94zm10 10l.94 2.06.94-2.06 2.06-.94-2.06-.94-.94-2.06-.94 2.06-2.06.94z\"/><path d=\"M17.41 7.96l-1.37-1.37c-.4-.4-.92-.59-1.43-.59-.52 0-1.04.2-1.43.59L10.3 9.45l-7.72 7.72c-.78.78-.78 2.05 0 2.83L4 21.41c.39.39.9.59 1.41.59.51 0 1.02-.2 1.41-.59l7.78-7.78 2.81-2.81c.8-.78.8-2.07 0-2.86zM5.41 20L4 18.59l7.72-7.72 1.47 1.35L5.41 20z\"/>\n",
       "  </svg>\n",
       "      </button>\n",
       "      \n",
       "  <style>\n",
       "    .colab-df-container {\n",
       "      display:flex;\n",
       "      flex-wrap:wrap;\n",
       "      gap: 12px;\n",
       "    }\n",
       "\n",
       "    .colab-df-convert {\n",
       "      background-color: #E8F0FE;\n",
       "      border: none;\n",
       "      border-radius: 50%;\n",
       "      cursor: pointer;\n",
       "      display: none;\n",
       "      fill: #1967D2;\n",
       "      height: 32px;\n",
       "      padding: 0 0 0 0;\n",
       "      width: 32px;\n",
       "    }\n",
       "\n",
       "    .colab-df-convert:hover {\n",
       "      background-color: #E2EBFA;\n",
       "      box-shadow: 0px 1px 2px rgba(60, 64, 67, 0.3), 0px 1px 3px 1px rgba(60, 64, 67, 0.15);\n",
       "      fill: #174EA6;\n",
       "    }\n",
       "\n",
       "    [theme=dark] .colab-df-convert {\n",
       "      background-color: #3B4455;\n",
       "      fill: #D2E3FC;\n",
       "    }\n",
       "\n",
       "    [theme=dark] .colab-df-convert:hover {\n",
       "      background-color: #434B5C;\n",
       "      box-shadow: 0px 1px 3px 1px rgba(0, 0, 0, 0.15);\n",
       "      filter: drop-shadow(0px 1px 2px rgba(0, 0, 0, 0.3));\n",
       "      fill: #FFFFFF;\n",
       "    }\n",
       "  </style>\n",
       "\n",
       "      <script>\n",
       "        const buttonEl =\n",
       "          document.querySelector('#df-cf6de9b7-2ff7-4e81-87de-069c85d74329 button.colab-df-convert');\n",
       "        buttonEl.style.display =\n",
       "          google.colab.kernel.accessAllowed ? 'block' : 'none';\n",
       "\n",
       "        async function convertToInteractive(key) {\n",
       "          const element = document.querySelector('#df-cf6de9b7-2ff7-4e81-87de-069c85d74329');\n",
       "          const dataTable =\n",
       "            await google.colab.kernel.invokeFunction('convertToInteractive',\n",
       "                                                     [key], {});\n",
       "          if (!dataTable) return;\n",
       "\n",
       "          const docLinkHtml = 'Like what you see? Visit the ' +\n",
       "            '<a target=\"_blank\" href=https://colab.research.google.com/notebooks/data_table.ipynb>data table notebook</a>'\n",
       "            + ' to learn more about interactive tables.';\n",
       "          element.innerHTML = '';\n",
       "          dataTable['output_type'] = 'display_data';\n",
       "          await google.colab.output.renderOutput(dataTable, element);\n",
       "          const docLink = document.createElement('div');\n",
       "          docLink.innerHTML = docLinkHtml;\n",
       "          element.appendChild(docLink);\n",
       "        }\n",
       "      </script>\n",
       "    </div>\n",
       "  </div>\n",
       "  "
      ],
      "text/plain": [
       "          Math  English    Art\n",
       "Math     630.0    630.0  225.0\n",
       "English  630.0    630.0  225.0\n",
       "Art      225.0    225.0  900.0"
      ]
     },
     "execution_count": 26,
     "metadata": {},
     "output_type": "execute_result"
    }
   ],
   "source": [
    "x = pd. Series([90,90,60,60,30])\n",
    "y = pd. Series([60,90,60,60,30])\n",
    "\n",
    "p=x.corr(y, method=\"pearson\")\n",
    "s=x.corr(y, method='spearman')\n",
    "\n",
    "print('Pearson correlation: %.3f' % p)\n",
    "print('Spearmans correlation: %.3f' % s)\n",
    "# relationship\n",
    "df = pd.DataFrame({'Math': [90,90,60,60,30],'English':[90,90,60,60,30],'Art':[90,30,60,90,30]})\n",
    "\n",
    "cov_matrix = df.cov()\n",
    "cov_matrix"
   ]
  },
  {
   "cell_type": "markdown",
   "id": "56b4856f",
   "metadata": {},
   "source": [
    "#### 10) Perform a hypothesis testing with Z-test The mean breaking strength of the cables supplied by a manufacture is 1800 with a S.D of 100. By a new technique in the manufacturing process, it is claimed that the breaking strength of the cable has increased. In order to test this claim, a sample of 50 cables is tested and it is found that the mean breaking strength is 1850. Can we support the claim at 1 % level?\n",
    "\n",
    "This question involves conducting a hypothesis test using the Z-test. It aims to determine if a claimed increase in the breaking strength of cables can be supported based on a sample of 50 cables. The hypothesis is tested at a significance level of 1%."
   ]
  },
  {
   "cell_type": "code",
   "execution_count": null,
   "id": "972b8fb2",
   "metadata": {
    "colab": {
     "base_uri": "https://localhost:8080/"
    },
    "id": "972b8fb2",
    "outputId": "b0d0a34c-9edf-4289-dbfc-89c35b0ab8f2"
   },
   "outputs": [
    {
     "name": "stdout",
     "output_type": "stream",
     "text": [
      "Reject HO\n"
     ]
    }
   ],
   "source": [
    "xbar=1\n",
    "mu=50\n",
    "n=1800\n",
    "SD=100\n",
    "z=abs(((xbar-mu)/(SD/math.sqrt(n))))\n",
    "if(z>2.58): \n",
    "  print(\"Reject HO\")\n",
    "else: \n",
    "  print(\"Accept HO\")\n",
    "  print(z)"
   ]
  },
  {
   "cell_type": "markdown",
   "id": "80749f6d",
   "metadata": {},
   "source": [
    "## Conclusion\n",
    "\n",
    "Statistical inference is a powerful toolkit that enables data scientists to draw conclusions, make predictions, and quantify uncertainty based on sample data. Through estimation, hypothesis testing, confidence intervals, and correlation analysis, statistical inference provides the means to understand populations, relationships, and patterns within the data.\n",
    "\n",
    "By leveraging statistical inference techniques, data scientists can confidently make decisions and recommendations based on empirical evidence. It allows for data-driven insights, reliable predictions, and informed actions, ensuring that data-driven decisions are robust, reliable, and meaningful.\n",
    "\n",
    "Understanding statistical inference is crucial for anyone involved in data science, as it provides the foundation for rigorous analysis, meaningful interpretations, and evidence-based decision-making."
   ]
  },
  {
   "cell_type": "markdown",
   "id": "a7595e07",
   "metadata": {},
   "source": [
    "**Contact Information:**\n",
    "\n",
    "For any inquiries or further discussions related to this Statistical Inference notebook, please feel free to reach out to me. I welcome the opportunity to connect and engage in data-related conversations. \n",
    "\n",
    "👤 Email: [info@rubangino.in](https://info@rubangino.in/)\n",
    "\n",
    "🌐 LinkedIn: [https://www.linkedin.com/in/ruban-gino-singh/](https://www.linkedin.com/in/ruban-gino-singh/)\n",
    "\n",
    "📧 Twitter: [https://twitter.com/Rubangino](https://twitter.com/Rubangino)\n",
    "\n",
    "🌐 Github: [https://github.com/Ruban2205](https://github.com/Ruban2205)\n",
    "\n",
    "Let's connect and Explore the fascinating world of data analysis together!"
   ]
  },
  {
   "cell_type": "code",
   "execution_count": null,
   "id": "d8fd8479",
   "metadata": {},
   "outputs": [],
   "source": []
  }
 ],
 "metadata": {
  "colab": {
   "provenance": []
  },
  "kernelspec": {
   "display_name": "Python 3",
   "language": "python",
   "name": "python3"
  },
  "language_info": {
   "codemirror_mode": {
    "name": "ipython",
    "version": 3
   },
   "file_extension": ".py",
   "mimetype": "text/x-python",
   "name": "python",
   "nbconvert_exporter": "python",
   "pygments_lexer": "ipython3",
   "version": "3.7.9"
  }
 },
 "nbformat": 4,
 "nbformat_minor": 5
}
