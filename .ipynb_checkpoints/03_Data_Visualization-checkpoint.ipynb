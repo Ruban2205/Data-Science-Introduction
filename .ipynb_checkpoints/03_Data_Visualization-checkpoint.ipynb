{
 "cells": [
  {
   "cell_type": "markdown",
   "id": "209e1e91",
   "metadata": {},
   "source": [
    "# <center>Data Visualization Techniques</center>"
   ]
  },
  {
   "cell_type": "markdown",
   "id": "377f6255",
   "metadata": {},
   "source": [
    "## Introduction\n",
    "Data visualization is a powerful tool that allows us to represent data in a graphical format, making it easier to understand and derive meaningful insights. By visually representing data, we can identify patterns, trends, and relationships that might not be apparent in raw data. In this notebook, we will explore various data visualization techniques using Python and popular libraries such as Matplotlib, Seaborn, and Plotly."
   ]
  },
  {
   "cell_type": "markdown",
   "id": "53ee63d2",
   "metadata": {},
   "source": [
    "## Description\n",
    "\n",
    "This notebook aims to provide a comprehensive overview of different data visualization techniques and how they can be implemented using Python. The notebook includes code examples and explanations for each visualization technique. The following types of Data Visualization Techniques are addressed in this notebook:\n",
    "\n",
    "- Bar Chart\n",
    "- Comparative Bar Chart\n",
    "- Horizontal Bar Chart \n",
    "- Stacked Bar Chart \n",
    "- Pie Chart \n",
    "- Dot Plot \n",
    "- Line Plot \n",
    "- Scatter Plot \n",
    "- Box plot \n",
    "- Histogram Plot"
   ]
  },
  {
   "cell_type": "markdown",
   "id": "4c1097ee",
   "metadata": {},
   "source": [
    "### Explaination with code"
   ]
  },
  {
   "cell_type": "markdown",
   "id": "df73c8c5",
   "metadata": {},
   "source": [
    "- Importing the Dataset"
   ]
  },
  {
   "cell_type": "code",
   "execution_count": 2,
   "id": "81140546",
   "metadata": {},
   "outputs": [
    {
     "data": {
      "text/html": [
       "<div>\n",
       "<style scoped>\n",
       "    .dataframe tbody tr th:only-of-type {\n",
       "        vertical-align: middle;\n",
       "    }\n",
       "\n",
       "    .dataframe tbody tr th {\n",
       "        vertical-align: top;\n",
       "    }\n",
       "\n",
       "    .dataframe thead th {\n",
       "        text-align: right;\n",
       "    }\n",
       "</style>\n",
       "<table border=\"1\" class=\"dataframe\">\n",
       "  <thead>\n",
       "    <tr style=\"text-align: right;\">\n",
       "      <th></th>\n",
       "      <th>First Name</th>\n",
       "      <th>Gender</th>\n",
       "      <th>Salary</th>\n",
       "      <th>Bonus %</th>\n",
       "      <th>Senior Management</th>\n",
       "      <th>Team</th>\n",
       "      <th>Age</th>\n",
       "      <th>Experience</th>\n",
       "      <th>New_Salary</th>\n",
       "      <th>Incentive</th>\n",
       "    </tr>\n",
       "  </thead>\n",
       "  <tbody>\n",
       "    <tr>\n",
       "      <th>0</th>\n",
       "      <td>Maria</td>\n",
       "      <td>Female</td>\n",
       "      <td>130590</td>\n",
       "      <td>11.858</td>\n",
       "      <td>0</td>\n",
       "      <td>Finance</td>\n",
       "      <td>26</td>\n",
       "      <td>5</td>\n",
       "      <td>146075.36220</td>\n",
       "      <td>20000</td>\n",
       "    </tr>\n",
       "    <tr>\n",
       "      <th>1</th>\n",
       "      <td>Angela</td>\n",
       "      <td>Female</td>\n",
       "      <td>54568</td>\n",
       "      <td>18.523</td>\n",
       "      <td>1</td>\n",
       "      <td>Business Development</td>\n",
       "      <td>27</td>\n",
       "      <td>5</td>\n",
       "      <td>64675.63064</td>\n",
       "      <td>19000</td>\n",
       "    </tr>\n",
       "    <tr>\n",
       "      <th>2</th>\n",
       "      <td>Allan</td>\n",
       "      <td>Male</td>\n",
       "      <td>125792</td>\n",
       "      <td>5.042</td>\n",
       "      <td>0</td>\n",
       "      <td>Client Services</td>\n",
       "      <td>28</td>\n",
       "      <td>6</td>\n",
       "      <td>132134.43264</td>\n",
       "      <td>18500</td>\n",
       "    </tr>\n",
       "    <tr>\n",
       "      <th>3</th>\n",
       "      <td>Rohan</td>\n",
       "      <td>Female</td>\n",
       "      <td>45906</td>\n",
       "      <td>11.598</td>\n",
       "      <td>1</td>\n",
       "      <td>Finance</td>\n",
       "      <td>28</td>\n",
       "      <td>7</td>\n",
       "      <td>51230.17788</td>\n",
       "      <td>18000</td>\n",
       "    </tr>\n",
       "    <tr>\n",
       "      <th>4</th>\n",
       "      <td>Douglas</td>\n",
       "      <td>Male</td>\n",
       "      <td>97308</td>\n",
       "      <td>6.945</td>\n",
       "      <td>1</td>\n",
       "      <td>Marketing</td>\n",
       "      <td>28</td>\n",
       "      <td>7</td>\n",
       "      <td>104066.04060</td>\n",
       "      <td>17000</td>\n",
       "    </tr>\n",
       "    <tr>\n",
       "      <th>5</th>\n",
       "      <td>Brandon</td>\n",
       "      <td>Male</td>\n",
       "      <td>112807</td>\n",
       "      <td>17.492</td>\n",
       "      <td>1</td>\n",
       "      <td>Human Resources</td>\n",
       "      <td>30</td>\n",
       "      <td>8</td>\n",
       "      <td>132539.20044</td>\n",
       "      <td>16000</td>\n",
       "    </tr>\n",
       "    <tr>\n",
       "      <th>6</th>\n",
       "      <td>Diana</td>\n",
       "      <td>Female</td>\n",
       "      <td>132940</td>\n",
       "      <td>19.082</td>\n",
       "      <td>0</td>\n",
       "      <td>Client Services</td>\n",
       "      <td>31</td>\n",
       "      <td>9</td>\n",
       "      <td>158307.61080</td>\n",
       "      <td>15800</td>\n",
       "    </tr>\n",
       "    <tr>\n",
       "      <th>7</th>\n",
       "      <td>Frances</td>\n",
       "      <td>Female</td>\n",
       "      <td>139852</td>\n",
       "      <td>7.524</td>\n",
       "      <td>1</td>\n",
       "      <td>Business Development</td>\n",
       "      <td>34</td>\n",
       "      <td>10</td>\n",
       "      <td>150374.46448</td>\n",
       "      <td>15500</td>\n",
       "    </tr>\n",
       "    <tr>\n",
       "      <th>8</th>\n",
       "      <td>Matthew</td>\n",
       "      <td>Male</td>\n",
       "      <td>100612</td>\n",
       "      <td>13.645</td>\n",
       "      <td>0</td>\n",
       "      <td>Marketing</td>\n",
       "      <td>34</td>\n",
       "      <td>10</td>\n",
       "      <td>114340.50740</td>\n",
       "      <td>15000</td>\n",
       "    </tr>\n",
       "    <tr>\n",
       "      <th>9</th>\n",
       "      <td>Larry</td>\n",
       "      <td>Male</td>\n",
       "      <td>101004</td>\n",
       "      <td>1.389</td>\n",
       "      <td>1</td>\n",
       "      <td>Client Services</td>\n",
       "      <td>35</td>\n",
       "      <td>11</td>\n",
       "      <td>102406.94556</td>\n",
       "      <td>14700</td>\n",
       "    </tr>\n",
       "    <tr>\n",
       "      <th>10</th>\n",
       "      <td>Joshua</td>\n",
       "      <td>Male</td>\n",
       "      <td>90816</td>\n",
       "      <td>18.816</td>\n",
       "      <td>1</td>\n",
       "      <td>Client Services</td>\n",
       "      <td>35</td>\n",
       "      <td>11</td>\n",
       "      <td>107903.93856</td>\n",
       "      <td>14300</td>\n",
       "    </tr>\n",
       "    <tr>\n",
       "      <th>11</th>\n",
       "      <td>Jerry</td>\n",
       "      <td>Male</td>\n",
       "      <td>72000</td>\n",
       "      <td>9.340</td>\n",
       "      <td>1</td>\n",
       "      <td>Finance</td>\n",
       "      <td>35</td>\n",
       "      <td>12</td>\n",
       "      <td>78724.80000</td>\n",
       "      <td>14000</td>\n",
       "    </tr>\n",
       "    <tr>\n",
       "      <th>12</th>\n",
       "      <td>Lois</td>\n",
       "      <td>Female</td>\n",
       "      <td>64714</td>\n",
       "      <td>4.934</td>\n",
       "      <td>1</td>\n",
       "      <td>Legal</td>\n",
       "      <td>35</td>\n",
       "      <td>12</td>\n",
       "      <td>67906.98876</td>\n",
       "      <td>14000</td>\n",
       "    </tr>\n",
       "    <tr>\n",
       "      <th>13</th>\n",
       "      <td>Dennis</td>\n",
       "      <td>Male</td>\n",
       "      <td>115163</td>\n",
       "      <td>10.125</td>\n",
       "      <td>0</td>\n",
       "      <td>Legal</td>\n",
       "      <td>36</td>\n",
       "      <td>13</td>\n",
       "      <td>126823.25375</td>\n",
       "      <td>13000</td>\n",
       "    </tr>\n",
       "    <tr>\n",
       "      <th>14</th>\n",
       "      <td>John</td>\n",
       "      <td>Male</td>\n",
       "      <td>97950</td>\n",
       "      <td>13.873</td>\n",
       "      <td>0</td>\n",
       "      <td>Client Services</td>\n",
       "      <td>37</td>\n",
       "      <td>13</td>\n",
       "      <td>111538.60350</td>\n",
       "      <td>12000</td>\n",
       "    </tr>\n",
       "    <tr>\n",
       "      <th>15</th>\n",
       "      <td>Thomas</td>\n",
       "      <td>Male</td>\n",
       "      <td>61933</td>\n",
       "      <td>10.945</td>\n",
       "      <td>1</td>\n",
       "      <td>Marketing</td>\n",
       "      <td>38</td>\n",
       "      <td>14</td>\n",
       "      <td>68711.56685</td>\n",
       "      <td>11900</td>\n",
       "    </tr>\n",
       "    <tr>\n",
       "      <th>16</th>\n",
       "      <td>Shawn</td>\n",
       "      <td>Male</td>\n",
       "      <td>111737</td>\n",
       "      <td>6.414</td>\n",
       "      <td>0</td>\n",
       "      <td>Human Resources</td>\n",
       "      <td>39</td>\n",
       "      <td>15</td>\n",
       "      <td>118903.81118</td>\n",
       "      <td>11500</td>\n",
       "    </tr>\n",
       "    <tr>\n",
       "      <th>17</th>\n",
       "      <td>Gary</td>\n",
       "      <td>Male</td>\n",
       "      <td>109831</td>\n",
       "      <td>5.831</td>\n",
       "      <td>0</td>\n",
       "      <td>Product</td>\n",
       "      <td>39</td>\n",
       "      <td>15</td>\n",
       "      <td>116235.24561</td>\n",
       "      <td>11500</td>\n",
       "    </tr>\n",
       "    <tr>\n",
       "      <th>18</th>\n",
       "      <td>Jeremy</td>\n",
       "      <td>Male</td>\n",
       "      <td>90370</td>\n",
       "      <td>7.369</td>\n",
       "      <td>0</td>\n",
       "      <td>Human Resources</td>\n",
       "      <td>42</td>\n",
       "      <td>18</td>\n",
       "      <td>97029.36530</td>\n",
       "      <td>11000</td>\n",
       "    </tr>\n",
       "    <tr>\n",
       "      <th>19</th>\n",
       "      <td>Kimberly</td>\n",
       "      <td>Female</td>\n",
       "      <td>41426</td>\n",
       "      <td>7.450</td>\n",
       "      <td>1</td>\n",
       "      <td>Finance</td>\n",
       "      <td>44</td>\n",
       "      <td>20</td>\n",
       "      <td>44512.23700</td>\n",
       "      <td>11000</td>\n",
       "    </tr>\n",
       "    <tr>\n",
       "      <th>20</th>\n",
       "      <td>Louise</td>\n",
       "      <td>Female</td>\n",
       "      <td>63241</td>\n",
       "      <td>15.132</td>\n",
       "      <td>1</td>\n",
       "      <td>Business Development</td>\n",
       "      <td>45</td>\n",
       "      <td>21</td>\n",
       "      <td>72810.62812</td>\n",
       "      <td>10800</td>\n",
       "    </tr>\n",
       "    <tr>\n",
       "      <th>21</th>\n",
       "      <td>Donna</td>\n",
       "      <td>Female</td>\n",
       "      <td>81014</td>\n",
       "      <td>1.894</td>\n",
       "      <td>0</td>\n",
       "      <td>Product</td>\n",
       "      <td>49</td>\n",
       "      <td>23</td>\n",
       "      <td>82548.40516</td>\n",
       "      <td>10600</td>\n",
       "    </tr>\n",
       "    <tr>\n",
       "      <th>22</th>\n",
       "      <td>Ruby</td>\n",
       "      <td>Female</td>\n",
       "      <td>65476</td>\n",
       "      <td>10.012</td>\n",
       "      <td>1</td>\n",
       "      <td>Product</td>\n",
       "      <td>54</td>\n",
       "      <td>25</td>\n",
       "      <td>72031.45712</td>\n",
       "      <td>10400</td>\n",
       "    </tr>\n",
       "    <tr>\n",
       "      <th>23</th>\n",
       "      <td>Lillian</td>\n",
       "      <td>Female</td>\n",
       "      <td>59414</td>\n",
       "      <td>1.256</td>\n",
       "      <td>0</td>\n",
       "      <td>Product</td>\n",
       "      <td>55</td>\n",
       "      <td>26</td>\n",
       "      <td>60160.23984</td>\n",
       "      <td>10300</td>\n",
       "    </tr>\n",
       "    <tr>\n",
       "      <th>24</th>\n",
       "      <td>Julie</td>\n",
       "      <td>Female</td>\n",
       "      <td>102508</td>\n",
       "      <td>12.637</td>\n",
       "      <td>1</td>\n",
       "      <td>Legal</td>\n",
       "      <td>58</td>\n",
       "      <td>27</td>\n",
       "      <td>115461.93596</td>\n",
       "      <td>10000</td>\n",
       "    </tr>\n",
       "  </tbody>\n",
       "</table>\n",
       "</div>"
      ],
      "text/plain": [
       "   First Name  Gender  Salary  Bonus %  Senior Management  \\\n",
       "0       Maria  Female  130590   11.858                  0   \n",
       "1      Angela  Female   54568   18.523                  1   \n",
       "2       Allan    Male  125792    5.042                  0   \n",
       "3       Rohan  Female   45906   11.598                  1   \n",
       "4     Douglas    Male   97308    6.945                  1   \n",
       "5     Brandon    Male  112807   17.492                  1   \n",
       "6       Diana  Female  132940   19.082                  0   \n",
       "7     Frances  Female  139852    7.524                  1   \n",
       "8     Matthew    Male  100612   13.645                  0   \n",
       "9       Larry    Male  101004    1.389                  1   \n",
       "10     Joshua    Male   90816   18.816                  1   \n",
       "11      Jerry    Male   72000    9.340                  1   \n",
       "12       Lois  Female   64714    4.934                  1   \n",
       "13     Dennis    Male  115163   10.125                  0   \n",
       "14       John    Male   97950   13.873                  0   \n",
       "15     Thomas    Male   61933   10.945                  1   \n",
       "16      Shawn    Male  111737    6.414                  0   \n",
       "17       Gary    Male  109831    5.831                  0   \n",
       "18     Jeremy    Male   90370    7.369                  0   \n",
       "19   Kimberly  Female   41426    7.450                  1   \n",
       "20     Louise  Female   63241   15.132                  1   \n",
       "21      Donna  Female   81014    1.894                  0   \n",
       "22       Ruby  Female   65476   10.012                  1   \n",
       "23    Lillian  Female   59414    1.256                  0   \n",
       "24      Julie  Female  102508   12.637                  1   \n",
       "\n",
       "                    Team  Age  Experience    New_Salary  Incentive  \n",
       "0                Finance   26           5  146075.36220      20000  \n",
       "1   Business Development   27           5   64675.63064      19000  \n",
       "2        Client Services   28           6  132134.43264      18500  \n",
       "3                Finance   28           7   51230.17788      18000  \n",
       "4              Marketing   28           7  104066.04060      17000  \n",
       "5        Human Resources   30           8  132539.20044      16000  \n",
       "6        Client Services   31           9  158307.61080      15800  \n",
       "7   Business Development   34          10  150374.46448      15500  \n",
       "8              Marketing   34          10  114340.50740      15000  \n",
       "9        Client Services   35          11  102406.94556      14700  \n",
       "10       Client Services   35          11  107903.93856      14300  \n",
       "11               Finance   35          12   78724.80000      14000  \n",
       "12                 Legal   35          12   67906.98876      14000  \n",
       "13                 Legal   36          13  126823.25375      13000  \n",
       "14       Client Services   37          13  111538.60350      12000  \n",
       "15             Marketing   38          14   68711.56685      11900  \n",
       "16       Human Resources   39          15  118903.81118      11500  \n",
       "17               Product   39          15  116235.24561      11500  \n",
       "18       Human Resources   42          18   97029.36530      11000  \n",
       "19               Finance   44          20   44512.23700      11000  \n",
       "20  Business Development   45          21   72810.62812      10800  \n",
       "21               Product   49          23   82548.40516      10600  \n",
       "22               Product   54          25   72031.45712      10400  \n",
       "23               Product   55          26   60160.23984      10300  \n",
       "24                 Legal   58          27  115461.93596      10000  "
      ]
     },
     "execution_count": 2,
     "metadata": {},
     "output_type": "execute_result"
    }
   ],
   "source": [
    "import pandas as pd \n",
    "import matplotlib.pyplot as plt\n",
    "data = pd.read_csv('emp_visu.csv')\n",
    "data"
   ]
  },
  {
   "cell_type": "markdown",
   "id": "a1093f38",
   "metadata": {},
   "source": [
    "**1) Bar Chart:** A bar chart is a graphical representation of categorical data using rectangular bars. Each bar represents a category, and the length of the bar corresponds to the value or count of that category. Bar charts are commonly used to compare and display discrete data sets, making it easy to visualize and compare values across different categories.\n",
    "\n",
    "**Bar Chart with Team and its Count:** This question involves creating a bar chart to visualize the count of teams."
   ]
  },
  {
   "cell_type": "code",
   "execution_count": 3,
   "id": "4b6cdda0",
   "metadata": {},
   "outputs": [
    {
     "data": {
      "image/png": "[encoded data removed]",
      "text/plain": [
       "<Figure size 432x288 with 1 Axes>"
      ]
     },
     "metadata": {
      "needs_background": "light"
     },
     "output_type": "display_data"
    }
   ],
   "source": [
    "# Draw a bar chart with Team and its count (use different colors for each team)\n",
    "chart = data['Team'].value_counts().plot(kind='bar', title=\"Team Count\", color=['red','blue'])\n",
    "plt.show()"
   ]
  },
  {
   "cell_type": "markdown",
   "id": "67c372ce",
   "metadata": {},
   "source": [
    "**2) Comparative Bar Chart:** A comparative bar chart is used to compare two or more variables or data sets side by side. Each variable or data set is represented by a set of bars, and the height or length of each bar corresponds to the value of that variable. Comparative bar charts are useful for visualizing and comparing data across different categories and identifying patterns or differences between variables.\n",
    "\n",
    "**Comparative Bar Chart for Salary and New_Salary:** This question focuses on creating a comparative bar chart to compare the salary and new salary values for each person."
   ]
  },
  {
   "cell_type": "code",
   "execution_count": 4,
   "id": "0fe7c980",
   "metadata": {},
   "outputs": [
    {
     "name": "stdout",
     "output_type": "stream",
     "text": [
      "AxesSubplot(0.125,0.125;0.775x0.755)\n"
     ]
    },
    {
     "data": {
      "image/png": "[encoded data removed]",
      "text/plain": [
       "<Figure size 432x288 with 1 Axes>"
      ]
     },
     "metadata": {
      "needs_background": "light"
     },
     "output_type": "display_data"
    }
   ],
   "source": [
    "# Draw a comparative bar chart for Salary and New_Salary against each person (first 15 person)\n",
    "chart = data[['Salary', 'New_Salary']].head(15).plot(kind='bar',color=['red','blue'])\n",
    "print(chart)"
   ]
  },
  {
   "cell_type": "markdown",
   "id": "1968bfb9",
   "metadata": {},
   "source": [
    "**3) Horizontal Bar Chart:** A horizontal bar chart is similar to a regular bar chart, but the bars are oriented horizontally instead of vertically. The length of each bar represents the value or count of a category, and the bars are arranged horizontally from longest to shortest. Horizontal bar charts are particularly useful when there are long category labels or when comparing a large number of categories.\n",
    "\n",
    "**Horizontal Bar Chart for Team and Salary:** Here, we create a horizontal bar chart to display the relationship between teams and salaries."
   ]
  },
  {
   "cell_type": "code",
   "execution_count": 5,
   "id": "e2d9c6be",
   "metadata": {
    "scrolled": true
   },
   "outputs": [
    {
     "name": "stdout",
     "output_type": "stream",
     "text": [
      "<BarContainer object of 25 artists>\n"
     ]
    },
    {
     "data": {
      "image/png": "[encoded data removed]",
      "text/plain": [
       "<Figure size 432x288 with 1 Axes>"
      ]
     },
     "metadata": {
      "needs_background": "light"
     },
     "output_type": "display_data"
    }
   ],
   "source": [
    "# Draw a horizontal bar chart for Team and Salary\n",
    "chart = plt.barh(data['Team'], data['Salary'], color=['red'])\n",
    "print(chart)"
   ]
  },
  {
   "cell_type": "markdown",
   "id": "01d4c985",
   "metadata": {},
   "source": [
    "**4) Stacked Bar Chart:** A stacked bar chart is used to visualize the composition of a whole based on subcategories. Each bar represents the total value of a category, and it is divided into segments representing the subcategories. The length of each segment corresponds to the proportion or value of the subcategory within the total category. Stacked bar charts are effective for displaying the relative contributions of different components to the whole.\n",
    "\n",
    "**Stacked Bar Chart for Salary and New_Price:** This question deals with creating a stacked bar chart to show the relationship between salary, new price, and each person."
   ]
  },
  {
   "cell_type": "code",
   "execution_count": 6,
   "id": "bd5c0a21",
   "metadata": {},
   "outputs": [
    {
     "data": {
      "text/plain": [
       "<BarContainer object of 25 artists>"
      ]
     },
     "execution_count": 6,
     "metadata": {},
     "output_type": "execute_result"
    },
    {
     "data": {
      "image/png": "[encoded data removed]",
      "text/plain": [
       "<Figure size 432x288 with 1 Axes>"
      ]
     },
     "metadata": {
      "needs_background": "light"
     },
     "output_type": "display_data"
    }
   ],
   "source": [
    "# Draw a stacked barchart for Salary and New_Price against the person (first 10 persons)\n",
    "plt.bar(data[\"Team\"], data[\"Salary\"])\n",
    "plt.bar(data[\"Team\"], data[\"New_Salary\"], bottom=data[\"Salary\"])"
   ]
  },
  {
   "cell_type": "markdown",
   "id": "71f7a635",
   "metadata": {},
   "source": [
    "**5) Pie Chart:** A pie chart is a circular chart that represents data as slices of a pie. Each slice corresponds to a category, and the size of the slice represents the proportion or percentage of that category relative to the whole. Pie charts are useful for displaying the distribution or composition of data and comparing the relative sizes of different categories.\n",
    "\n",
    "**Pie Chart with Gender and its Count:** This question involves creating a pie chart to visualize the distribution of genders."
   ]
  },
  {
   "cell_type": "code",
   "execution_count": 7,
   "id": "ebed0a76",
   "metadata": {},
   "outputs": [
    {
     "data": {
      "text/plain": [
       "<matplotlib.axes._subplots.AxesSubplot at 0x7f2fac8e6198>"
      ]
     },
     "execution_count": 7,
     "metadata": {},
     "output_type": "execute_result"
    },
    {
     "data": {
      "image/png": "[encoded data removed]",
      "text/plain": [
       "<Figure size 432x288 with 1 Axes>"
      ]
     },
     "metadata": {},
     "output_type": "display_data"
    }
   ],
   "source": [
    "# Draw a pie chart with Gender and its count\n",
    "data['Gender'].value_counts().plot(kind='pie', autopct='%.2f%%')"
   ]
  },
  {
   "cell_type": "markdown",
   "id": "1c46c159",
   "metadata": {},
   "source": [
    "**6) Dot Plot:** A dot plot is a simple chart that represents individual data points as dots along a horizontal or vertical axis. Each dot corresponds to a data point, and its position on the axis represents its value. Dot plots are useful for visualizing the distribution of data, identifying outliers, and comparing individual values.\n",
    "\n",
    "**Dot Plot between Person and Experience:** Here, we create a dot plot to depict the relationship between persons and their experience."
   ]
  },
  {
   "cell_type": "code",
   "execution_count": 8,
   "id": "d7614296",
   "metadata": {},
   "outputs": [
    {
     "data": {
      "text/plain": [
       "[<matplotlib.lines.Line2D at 0x7f2fac8654a8>]"
      ]
     },
     "execution_count": 8,
     "metadata": {},
     "output_type": "execute_result"
    },
    {
     "data": {
      "image/png": "[encoded data removed]",
      "text/plain": [
       "<Figure size 432x288 with 1 Axes>"
      ]
     },
     "metadata": {
      "needs_background": "light"
     },
     "output_type": "display_data"
    }
   ],
   "source": [
    "# Draw the dot plot between person and experience (first 15 persons)\n",
    "plt.plot(data['First Name'].head(15),data['Experience'].head(15),linewidth=0,marker='o')"
   ]
  },
  {
   "cell_type": "markdown",
   "id": "b882693a",
   "metadata": {},
   "source": [
    "**7) Line Plot:** A line plot, also known as a line graph, is used to display data as a series of data points connected by straight lines. Line plots are particularly useful for showing trends or changes in data over time or across continuous variables. They are commonly used to represent time series data or continuous data sets.\n",
    "\n",
    "**Line Plot between Age and Experience:** This question focuses on creating a line plot to illustrate the relationship between age and experience."
   ]
  },
  {
   "cell_type": "code",
   "execution_count": 9,
   "id": "92bd57ed",
   "metadata": {
    "scrolled": true
   },
   "outputs": [
    {
     "data": {
      "text/plain": [
       "[<matplotlib.lines.Line2D at 0x7f2fac7e0550>]"
      ]
     },
     "execution_count": 9,
     "metadata": {},
     "output_type": "execute_result"
    },
    {
     "data": {
      "image/png": "[encoded data removed]",
      "text/plain": [
       "<Figure size 432x288 with 1 Axes>"
      ]
     },
     "metadata": {
      "needs_background": "light"
     },
     "output_type": "display_data"
    }
   ],
   "source": [
    "# Draw the line plot between age and experience. Observe the trend line. \n",
    "plt.plot(data['Age'],data['Experience'],linewidth=1,marker='o')"
   ]
  },
  {
   "cell_type": "markdown",
   "id": "0bed6fdb",
   "metadata": {},
   "source": [
    "**8) Scatter Plot:** A scatter plot is used to visualize the relationship between two continuous variables. Each data point is represented by a marker on a Cartesian coordinate system, with one variable plotted on the x-axis and the other variable plotted on the y-axis. Scatter plots are effective for identifying patterns, correlations, clusters, or outliers in the data.\n",
    "\n",
    "**Scatter Plot between Salary and New_Salary:** This question involves creating a scatter plot to observe the correlation between salary and new salary values."
   ]
  },
  {
   "cell_type": "code",
   "execution_count": 10,
   "id": "3ba5595e",
   "metadata": {},
   "outputs": [
    {
     "data": {
      "text/plain": [
       "<matplotlib.collections.PathCollection at 0x7f2fac7955f8>"
      ]
     },
     "execution_count": 10,
     "metadata": {},
     "output_type": "execute_result"
    },
    {
     "data": {
      "image/png": "[encoded data removed]",
      "text/plain": [
       "<Figure size 432x288 with 1 Axes>"
      ]
     },
     "metadata": {
      "needs_background": "light"
     },
     "output_type": "display_data"
    }
   ],
   "source": [
    "# Draw the scatter plot between Salary and New_Salary. Observe the correlation.\n",
    "plt.scatter(data[\"Salary\"], data[\"New_Salary\"])"
   ]
  },
  {
   "cell_type": "markdown",
   "id": "66ef7e32",
   "metadata": {},
   "source": [
    "**9) Box Plot:** A box plot, also known as a box-and-whisker plot, is a visual representation of the statistical summary of a dataset. It displays the distribution of data by dividing it into quartiles. The plot consists of a rectangular box (the interquartile range) with a line inside (the median), and two lines (whiskers) that extend to the minimum and maximum values. Box plots provide insights into the central tendency, spread, and skewness of the data, as well as the presence of outliers.\n",
    "\n",
    "**Box Plot for Statistical Summary of Age Column:** Here, we create a box plot to showcase the statistical summary of the age column."
   ]
  },
  {
   "cell_type": "code",
   "execution_count": 11,
   "id": "9ff15348",
   "metadata": {
    "scrolled": true
   },
   "outputs": [
    {
     "data": {
      "image/png": "[encoded data removed]",
      "text/plain": [
       "<Figure size 432x288 with 1 Axes>"
      ]
     },
     "metadata": {
      "needs_background": "light"
     },
     "output_type": "display_data"
    }
   ],
   "source": [
    "# Draw the scater plot between Age and Incentive. Observe the correlation\n",
    "chart = plt.scatter(data[\"Age\"], data[\"Incentive\"])"
   ]
  },
  {
   "cell_type": "code",
   "execution_count": 12,
   "id": "61dd4482",
   "metadata": {},
   "outputs": [
    {
     "data": {
      "text/plain": [
       "count    25.000000\n",
       "mean     37.680000\n",
       "std       8.938307\n",
       "min      26.000000\n",
       "25%      31.000000\n",
       "50%      35.000000\n",
       "75%      42.000000\n",
       "max      58.000000\n",
       "Name: Age, dtype: float64"
      ]
     },
     "execution_count": 12,
     "metadata": {},
     "output_type": "execute_result"
    },
    {
     "data": {
      "image/png": "[encoded data removed]",
      "text/plain": [
       "<Figure size 432x288 with 1 Axes>"
      ]
     },
     "metadata": {
      "needs_background": "light"
     },
     "output_type": "display_data"
    }
   ],
   "source": [
    "# Draw the box plot to show the statistical summary of Age column and verify with describe()\n",
    "plt.boxplot(data[\"Age\"])\n",
    "data[\"Age\"].describe()"
   ]
  },
  {
   "cell_type": "markdown",
   "id": "0fba0e49",
   "metadata": {},
   "source": [
    "**10) Histogram Plot:** A histogram plot is used to visualize the distribution of continuous or discrete data. It represents data as bars, where each bar corresponds to a range or bin of values, and the height of the bar represents the frequency or count of data points falling within that range. Histograms are useful for understanding the shape, central tendency, and variability of the data distribution. They can help identify patterns such as normal distribution, skewness, or multimodality.\n",
    "\n",
    "**Histogram Plot for Experience Column:** This question deals with creating a histogram plot to visualize the distribution of values in the experience column."
   ]
  },
  {
   "cell_type": "code",
   "execution_count": 13,
   "id": "6306dca6",
   "metadata": {
    "scrolled": true
   },
   "outputs": [
    {
     "data": {
      "text/plain": [
       "array([[<matplotlib.axes._subplots.AxesSubplot object at 0x7f2fac643518>]],\n",
       "      dtype=object)"
      ]
     },
     "execution_count": 13,
     "metadata": {},
     "output_type": "execute_result"
    },
    {
     "data": {
      "image/png": "[encoded data removed]",
      "text/plain": [
       "<Figure size 432x288 with 1 Axes>"
      ]
     },
     "metadata": {
      "needs_background": "light"
     },
     "output_type": "display_data"
    }
   ],
   "source": [
    "# Draw the histogram plot for Experience column. \n",
    "data.hist(\"Experience\", color=\"Yellow\", edgecolor=\"black\")"
   ]
  },
  {
   "cell_type": "code",
   "execution_count": 14,
   "id": "04f2e861",
   "metadata": {},
   "outputs": [
    {
     "data": {
      "text/plain": [
       "array([[<matplotlib.axes._subplots.AxesSubplot object at 0x7f2fac5cda90>]],\n",
       "      dtype=object)"
      ]
     },
     "execution_count": 14,
     "metadata": {},
     "output_type": "execute_result"
    },
    {
     "data": {
      "image/png": "[encoded data removed]",
      "text/plain": [
       "<Figure size 432x288 with 1 Axes>"
      ]
     },
     "metadata": {
      "needs_background": "light"
     },
     "output_type": "display_data"
    }
   ],
   "source": [
    "# Draw the histogram plot for Experience column with bin value and PDF\n",
    "data.hist(\"Experience\", color=\"Yellow\", edgecolor=\"black\", bins=3)"
   ]
  },
  {
   "cell_type": "code",
   "execution_count": 4,
   "id": "5c6cfd1a",
   "metadata": {},
   "outputs": [
    {
     "data": {
      "image/png": "[encoded data removed]",
      "text/plain": [
       "<Figure size 432x288 with 1 Axes>"
      ]
     },
     "metadata": {
      "needs_background": "light"
     },
     "output_type": "display_data"
    }
   ],
   "source": [
    "import numpy as np\n",
    "import pandas as pd\n",
    "import matplotlib.pyplot as plt \n",
    "\n",
    "data1 = pd.read_csv('emp_visu.csv')\n",
    "data1\n",
    "\n",
    "x = np.random.normal(170, 10, 250)\n",
    "plt.hist(x)\n",
    "plt.show() "
   ]
  },
  {
   "cell_type": "markdown",
   "id": "a8227184",
   "metadata": {},
   "source": [
    "Each of these visualization techniques offers unique ways to represent and analyze data, allowing us to gain insights and communicate findings effectively."
   ]
  },
  {
   "cell_type": "markdown",
   "id": "6e98997e",
   "metadata": {},
   "source": [
    "## Conclusion\n",
    "\n",
    "Data visualization is a crucial aspect of data analysis and communication. It helps us understand complex data sets, identify patterns, trends, and outliers, and communicate our findings effectively. By utilizing various visualization techniques, we can unlock valuable insights and make data-driven decisions. In this notebook, we explored a range of visualization techniques, including bar charts, comparative bar charts, horizontal bar charts, stacked bar charts, pie charts, dot plots, line plots, scatter plots, box plots, and histograms. Each technique serves its unique purpose and provides a visual representation of different aspects of the data. With these tools at our disposal, we can effectively explore, analyze, and present data in a meaningful and visually appealing manner."
   ]
  },
  {
   "cell_type": "markdown",
   "id": "755a877c",
   "metadata": {},
   "source": [
    "---"
   ]
  },
  {
   "cell_type": "markdown",
   "id": "328f21e6",
   "metadata": {},
   "source": [
    "#### 📧 Contact Information:\n",
    "For any inquiries, feedback, or collaboration opportunities regarding the Data Visualization Techniques IPYNB file, please feel free to reach out to me through the following channels:\n",
    "\n",
    "📩 Email: [info@rubangino.in](mailto:info@rubangino.in)\n",
    "\n",
    "🌐 LinkedIn: [ruban-gino-singh](https://www.linkedin.com/in/ruban-gino-singh/)\n",
    "\n",
    "🐦 Twitter: [Rubangino](https://twitter.com/Rubangino)\n",
    "\n",
    "🌐 GitHub: [Ruban2205](https://github.com/Ruban2205)\n",
    "\n",
    "I'm open to discussions, questions, and suggestions related to data visualization, Python programming, and data analysis. Don't hesitate to connect with me and start a conversation. Let's explore the fascinating world of data visualization together!\n",
    "\n",
    "Looking forward to connecting with you and sharing insights on data visualization techniques."
   ]
  }
 ],
 "metadata": {
  "kernelspec": {
   "display_name": "Python 3",
   "language": "python",
   "name": "python3"
  },
  "language_info": {
   "codemirror_mode": {
    "name": "ipython",
    "version": 3
   },
   "file_extension": ".py",
   "mimetype": "text/x-python",
   "name": "python",
   "nbconvert_exporter": "python",
   "pygments_lexer": "ipython3",
   "version": "3.10.2"
  }
 },
 "nbformat": 4,
 "nbformat_minor": 5
}
